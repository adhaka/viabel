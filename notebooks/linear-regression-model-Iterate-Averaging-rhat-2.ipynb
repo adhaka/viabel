{
 "cells": [
  {
   "cell_type": "code",
   "execution_count": 1,
   "metadata": {},
   "outputs": [],
   "source": [
    "import sys, os\n",
    "sys.path.append('..')\n",
    "sys.path.append('../..')"
   ]
  },
  {
   "cell_type": "code",
   "execution_count": 2,
   "metadata": {},
   "outputs": [],
   "source": [
    "import autograd"
   ]
  },
  {
   "cell_type": "code",
   "execution_count": 3,
   "metadata": {},
   "outputs": [],
   "source": [
    "import pickle"
   ]
  },
  {
   "cell_type": "code",
   "execution_count": 4,
   "metadata": {},
   "outputs": [],
   "source": [
    "import pystan"
   ]
  },
  {
   "cell_type": "code",
   "execution_count": 5,
   "metadata": {},
   "outputs": [],
   "source": [
    "import matplotlib.pyplot as plt\n",
    "import seaborn as sns\n",
    "import autograd.numpy as np\n",
    "#import pystan\n",
    "from viabel import all_bounds\n",
    "from viabel.vb import (mean_field_gaussian_variational_family,\n",
    "                       mean_field_t_variational_family,\n",
    "                       full_rank_gaussian_variational_family,\n",
    "                       t_variational_family,\n",
    "                       black_box_klvi,\n",
    "                       black_box_klvi_pd,\n",
    "                       black_box_klvi_pd2,\n",
    "                       black_box_chivi,\n",
    "                       make_stan_log_density,\n",
    "                       adagrad_optimize\n",
    "                      )\n",
    "from experiments import (get_samples_and_log_weights, \n",
    "                         plot_history, \n",
    "                         plot_approx_and_exact_contours, \n",
    "                         check_approx_accuracy,\n",
    "                         print_bounds)\n",
    "\n",
    "from data_generator import (data_generator_linear)\n",
    "\n",
    "sns.set_style('white')\n",
    "sns.set_context('notebook', font_scale=2, rc={'lines.linewidth': 2})"
   ]
  },
  {
   "cell_type": "code",
   "execution_count": 6,
   "metadata": {},
   "outputs": [],
   "source": [
    "import scipy"
   ]
  },
  {
   "cell_type": "code",
   "execution_count": 7,
   "metadata": {},
   "outputs": [],
   "source": [
    "from viabel.optimizers import  adagrad_optimize, rmsprop_IA_optimize_with_rhat"
   ]
  },
  {
   "cell_type": "code",
   "execution_count": 8,
   "metadata": {},
   "outputs": [],
   "source": [
    "from paragami import PSDSymmetricMatrixPattern\n",
    "#_unvectorize_ld_matrix"
   ]
  },
  {
   "cell_type": "code",
   "execution_count": 9,
   "metadata": {},
   "outputs": [],
   "source": [
    "from viabel.vb import  rmsprop_IA_optimize_with_rhat, adam_IA_optimize_with_rhat"
   ]
  },
  {
   "cell_type": "code",
   "execution_count": 10,
   "metadata": {},
   "outputs": [],
   "source": [
    "from viabel.functions import compute_posterior_moments"
   ]
  },
  {
   "cell_type": "code",
   "execution_count": 11,
   "metadata": {},
   "outputs": [
    {
     "name": "stdout",
     "output_type": "stream",
     "text": [
      "<function PSDSymmetricMatrixPattern.fold at 0x1258af510>\n"
     ]
    }
   ],
   "source": [
    "print(PSDSymmetricMatrixPattern.fold)"
   ]
  },
  {
   "cell_type": "markdown",
   "metadata": {},
   "source": [
    "# Linear regression model example\n",
    "\n",
    "We will approximate the posterior for the simple 2D robust linear regression model\n",
    "$$\\beta_i \\sim \\mathcal{N}(0, 10)$$\n",
    "$$y_n | x_n, \\beta, \\sigma \\sim \\mathcal{T}_{1000000}(\\beta^\\top x_n, 1).$$\n",
    "\n",
    "We will use Stan to take care of compute log probabilities and gradients for us. "
   ]
  },
  {
   "cell_type": "code",
   "execution_count": 12,
   "metadata": {},
   "outputs": [],
   "source": [
    "regression_model_code = \"\"\"data {\n",
    "  int<lower=0> N;   // number of observations\n",
    "  int<lower=0> D;   // number of observations\n",
    "  matrix[N, D] x;   // predictor matrix\n",
    "  vector[N] y;      // outcome vector\n",
    "}\n",
    "parameters {\n",
    "  vector[D] beta;       // coefficients for predictors\n",
    "}\n",
    "\n",
    "model {\n",
    "  beta ~ normal(0, 10);\n",
    "  #y ~ student_t(10000000, x * beta, 1);  // likelihood\n",
    "  y ~ normal( x * beta, 0.5);  // likelihood\n",
    "}\"\"\""
   ]
  },
  {
   "cell_type": "code",
   "execution_count": 13,
   "metadata": {},
   "outputs": [],
   "source": [
    "\n",
    "try:\n",
    "    sm = pickle.load(open('robust_reg_model_1.pkl', 'rb'))\n",
    "except:\n",
    "    sm = pystan.StanModel(model_code=regression_model_code, model_name='regression_model')\n",
    "    with open('robust_reg_model_1.pkl', 'wb') as f:\n",
    "        pickle.dump(sm, f)\n"
   ]
  },
  {
   "cell_type": "markdown",
   "metadata": {},
   "source": [
    "We generate 25 observations from the model with $\\beta = (-2, 1)$."
   ]
  },
  {
   "cell_type": "code",
   "execution_count": 14,
   "metadata": {},
   "outputs": [],
   "source": [
    "SEED=5040\n",
    "np.random.seed(SEED)\n",
    "beta_gen = np.array([-2, 1])\n",
    "N = 100\n",
    "k=10\n",
    "x = np.random.randn(N, 2).dot(np.array([[1,.85],[.85, 1]]))\n",
    "y_raw = x.dot(beta_gen) + np.random.standard_t(10, N)\n",
    "y = y_raw - np.mean(y_raw)"
   ]
  },
  {
   "cell_type": "code",
   "execution_count": 15,
   "metadata": {},
   "outputs": [],
   "source": [
    "N=200\n",
    "k=20\n",
    "SEED= 5080\n",
    "alpha=1.\n",
    "noise_sigma = 0.4\n",
    "noise_var = noise_sigma**2\n",
    "rho = 0.5\n",
    "regression_data = data_generator_linear(N, k, alpha=alpha,\n",
    "                                                     noise_variance=noise_var,\n",
    "                                                     rho=rho, seed=SEED)\n",
    "X = regression_data['X']\n",
    "Y = regression_data['Y']\n",
    "Y=Y[:,0]\n",
    "W = regression_data['W']"
   ]
  },
  {
   "cell_type": "markdown",
   "metadata": {},
   "source": [
    "First, we generate ground truth samples using Stan's dynamic HMC implementation"
   ]
  },
  {
   "cell_type": "code",
   "execution_count": 16,
   "metadata": {},
   "outputs": [],
   "source": [
    "data = dict(N=N, x=X, y=Y, D=k)\n",
    "fit = sm.sampling(data=data)"
   ]
  },
  {
   "cell_type": "code",
   "execution_count": 17,
   "metadata": {},
   "outputs": [],
   "source": [
    "posterior_mean_hmc = np.mean(fit['beta'], axis=0)\n",
    "posterior_cov_hmc = np.cov(fit['beta'].T)"
   ]
  },
  {
   "cell_type": "code",
   "execution_count": 18,
   "metadata": {},
   "outputs": [],
   "source": [
    "posterior_std_hmc = np.sqrt(np.diag(posterior_cov_hmc))"
   ]
  },
  {
   "cell_type": "code",
   "execution_count": 19,
   "metadata": {},
   "outputs": [
    {
     "name": "stdout",
     "output_type": "stream",
     "text": [
      "[ 0.00901203 -0.37959155 -1.32323517  1.0575408  -1.45649179  2.14716967\n",
      " -0.44067302 -0.09623032  0.0074164  -0.55759673  1.76844991  0.4607931\n",
      " -0.11485466  0.05025837  0.73398787 -0.15220742 -0.48381024  0.20349055\n",
      "  1.36054697  1.36562028]\n"
     ]
    }
   ],
   "source": [
    "print(posterior_mean_hmc)"
   ]
  },
  {
   "cell_type": "code",
   "execution_count": 20,
   "metadata": {},
   "outputs": [
    {
     "data": {
      "image/png": "[encoded data removed]",
      "text/plain": [
       "<Figure size 576x360 with 2 Axes>"
      ]
     },
     "metadata": {},
     "output_type": "display_data"
    }
   ],
   "source": [
    "mu1 = 0.1\n",
    "mu2 = -0.1\n",
    "variance = 0.004\n",
    "sigma = np.sqrt(variance)\n",
    "variance2 =0.2\n",
    "sigma2 = np.sqrt(variance2)\n",
    "fig, (ax1, ax2) = plt.subplots(1, 2, figsize=( 8,5))\n",
    "x1 = np.linspace(mu1 - 3*sigma, mu1 + 3*sigma, 1000)\n",
    "x2 = np.linspace(mu2 - 3*sigma, mu2 + 3*sigma, 1000)\n",
    "y1 = np.linspace(mu1 - 3*sigma2, mu1 + 3*sigma2, 1000)\n",
    "y2 = np.linspace(mu2 - 3*sigma2, mu2 + 3*sigma2, 1000)\n",
    "ax1.plot(x1, scipy.stats.norm.pdf(x1, mu1, sigma))\n",
    "ax1.plot(x2, scipy.stats.norm.pdf(x2, mu2, sigma))\n",
    "ax2.plot(y1, scipy.stats.norm.pdf(y1, mu1, sigma2))\n",
    "ax2.plot(y2, scipy.stats.norm.pdf(y2, mu2, sigma2))\n",
    "plt.xlim((-0.9, 0.9))\n",
    "plt.savefig('gaussian-1.pdf')\n",
    "\n",
    "plt.show()"
   ]
  },
  {
   "cell_type": "markdown",
   "metadata": {},
   "source": [
    "#### Here, we compute the posterior moments analytically."
   ]
  },
  {
   "cell_type": "code",
   "execution_count": 21,
   "metadata": {},
   "outputs": [],
   "source": [
    "prior_mean = np.zeros((k, 1))\n",
    "prior_covariance = np.eye(k)\n",
    "true_mean, true_cov = compute_posterior_moments(prior_mean,\n",
    "                                                            prior_covariance,\n",
    "                                                            noise_var, X, Y[:,None])\n",
    "\n",
    "true_mean = true_mean.flatten()\n",
    "\n",
    "true_std = np.sqrt(np.diag(true_cov))"
   ]
  },
  {
   "cell_type": "markdown",
   "metadata": {},
   "source": [
    "#### Difference Between True posterior mean and HMC mean estimate.\n",
    "The difference is quite small even after summing over all dimensions."
   ]
  },
  {
   "cell_type": "code",
   "execution_count": 22,
   "metadata": {},
   "outputs": [
    {
     "name": "stdout",
     "output_type": "stream",
     "text": [
      "Difference between analytical mean and HMC mean: 0.00010734806911326142\n",
      "Difference between analytical covariance and HMC covariance: 1.79734468071817e-05\n",
      "Difference between analytical std dev and HMC std dev: 0.0017076984367778473\n",
      "Difference between analytical z-score and HMC z-score: 0.06072980636873231\n"
     ]
    }
   ],
   "source": [
    "#print(posterior_mean)\n",
    "print('Difference between analytical mean and HMC mean:', np.sum(np.square(posterior_mean_hmc - true_mean)))\n",
    "print('Difference between analytical covariance and HMC covariance:', np.sum(np.square(posterior_cov_hmc - true_cov)))\n",
    "print('Difference between analytical std dev and HMC std dev:', np.sum(np.square(posterior_std_hmc - true_std)))\n",
    "print('Difference between analytical z-score and HMC z-score:', np.sqrt(np.mean(np.square((posterior_mean_hmc - true_mean)/true_std))))"
   ]
  },
  {
   "cell_type": "code",
   "execution_count": 23,
   "metadata": {},
   "outputs": [
    {
     "data": {
      "image/png": "[encoded data removed]",
      "text/plain": [
       "<Figure size 432x432 with 3 Axes>"
      ]
     },
     "metadata": {},
     "output_type": "display_data"
    }
   ],
   "source": [
    "jp = sns.jointplot(x=fit['beta[1]'], y=fit['beta[2]'], kind='kde')\n",
    "jp.set_axis_labels(r'$\\beta_1$', r'$\\beta_2$')\n",
    "plt.show()"
   ]
  },
  {
   "cell_type": "markdown",
   "metadata": {},
   "source": [
    "## Standard mean-field variational inference\n",
    "\n",
    "Next, we compute a mean field variational approximation using standard variational inference (that is, minimizing the KL-divergence)"
   ]
  },
  {
   "cell_type": "markdown",
   "metadata": {},
   "source": [
    "#### Here we will investigate if Iterate Averaging(IA) really improves estimation of variational parameters \n",
    "#### first with mean field approximation and then full rank approximation on ELBO objective values.\n",
    "#### We also show the effect of using path gradients, which always give a slightly better estimate of ELBO:"
   ]
  },
  {
   "cell_type": "code",
   "execution_count": 24,
   "metadata": {},
   "outputs": [],
   "source": [
    "mf_g_var_family = mean_field_gaussian_variational_family(k)\n",
    "fr_g_var_family = t_variational_family(k, df=1000000)"
   ]
  },
  {
   "cell_type": "code",
   "execution_count": 25,
   "metadata": {},
   "outputs": [],
   "source": [
    "mf_g_var_family = mean_field_gaussian_variational_family(k)\n",
    "stan_log_density = make_stan_log_density(fit)\n",
    "klvi_mf_objective_and_grad = black_box_klvi(mf_g_var_family, stan_log_density, 100)\n",
    "klvi_fr_objective_and_grad = black_box_klvi(fr_g_var_family, stan_log_density, 100)\n",
    "init_mean    = np.zeros(k)\n",
    "init_log_std = np.ones(k)\n",
    "init_var_param = np.concatenate([init_mean, init_log_std])\n",
    "n_iters = 5000\n"
   ]
  },
  {
   "cell_type": "code",
   "execution_count": 26,
   "metadata": {},
   "outputs": [],
   "source": [
    "klvi_mf_objective_and_grad_pd = black_box_klvi_pd2(mf_g_var_family, stan_log_density, 100)\n",
    "klvi_fr_objective_and_grad_pd = black_box_klvi_pd2(fr_g_var_family, stan_log_density, 100)\n",
    "init_mean    = np.zeros(k)\n",
    "#init_mean_random = np.random.normal([k], stddev=1.0)\n",
    "init_log_std = np.ones(k)\n",
    "#init_log_std_random = tf.random.normal([k], stddev=1.)\n",
    "init_var_param = np.concatenate([init_mean, init_log_std])\n",
    "init_fr_var_param = np.concatenate([init_mean, np.ones(int(k*(k+1)/2))])"
   ]
  },
  {
   "cell_type": "markdown",
   "metadata": {},
   "source": [
    "####  First we use mean field Gaussian as proposal density"
   ]
  },
  {
   "cell_type": "code",
   "execution_count": null,
   "metadata": {},
   "outputs": [],
   "source": [
    "klvi_var_param_rms, klvi_var_param_list_rms, avg_klvi_mean_list_rms, avg_klvi_sigmas_list_rms, klvi_history_rms, _, op_log_mf_rms = \\\n",
    "    rmsprop_IA_optimize_with_rhat(7000, klvi_mf_objective_and_grad, init_var_param, k, learning_rate=.01,n_optimisers=2, avg_grad_norm=False)"
   ]
  },
  {
   "cell_type": "code",
   "execution_count": null,
   "metadata": {},
   "outputs": [],
   "source": [
    "print('Difference between analytical mean and VI-RMSProp-IA mean:', np.sum(np.square(avg_klvi_mean_list_rms[0][-1] - true_mean)))\n",
    "print('Difference between analytical mean and VI-RMSProp mean:', np.sum(np.square(klvi_var_param_list_rms[0][-1,:k] - true_mean)))\n",
    "print('Difference between analytical std dev and VI-RMSProp-IA std dev:', np.sum(np.square(np.exp(avg_klvi_sigmas_list_rms[0][-1]) - true_std)))\n",
    "print('Difference between analytical std dev and VI-RMSProp std dev:', np.sum(np.square(np.exp(klvi_var_param_list_rms[0][-1,k:]) - true_std)))\n",
    "print('Difference between analytical z-score and VI-RMSProp-IA z-score:', np.sqrt(np.mean(np.square((avg_klvi_mean_list_rms[0][-1] - true_mean)/true_std))))\n",
    "print('Difference between analytical z-score and VI-RMSProp z-score:', np.sqrt(np.mean(np.square((klvi_var_param_list_rms[0][-1,:k] - true_mean)/true_std))))"
   ]
  },
  {
   "cell_type": "markdown",
   "metadata": {},
   "source": [
    "###### Iterations taken to converge to stationary process Brownian motion according to r-hat for mean parameter and sigma parameter respectively."
   ]
  },
  {
   "cell_type": "code",
   "execution_count": null,
   "metadata": {},
   "outputs": [],
   "source": [
    "print(op_log_mf_rms['start_avg_mean_iters'])\n",
    "print(op_log_mf_rms['start_avg_sigma_iters'])\n",
    "\n",
    "R_hat_mean_window = op_log_mf_rms['r_hat_mean']\n",
    "R_hat_sigma_window = op_log_mf_rms['r_hat_sigma']\n",
    "R_hat_mean_halfway = op_log_mf_rms['r_hat_mean_halfway']\n",
    "R_hat_sigma_halfway = op_log_mf_rms['r_hat_sigma_halfway']"
   ]
  },
  {
   "cell_type": "markdown",
   "metadata": {},
   "source": [
    "##### Plot for R-hat (fixed window) and R-hat halfway\n",
    "The Rhat halfway is computed at an interval of 100 iterations using the last 50% iterations, while Rhat window uses fixed windows of 500 iterations .., we here plot the Rhats averaged over all the dimensions."
   ]
  },
  {
   "cell_type": "code",
   "execution_count": null,
   "metadata": {},
   "outputs": [],
   "source": [
    "plt.plot(np.repeat(np.mean(R_hat_mean_window, axis=1), 500), label='mean')\n",
    "plt.plot(np.repeat(np.mean(R_hat_sigma_window, axis=1), 500), label='sigma')\n",
    "plt.ylim((0.8,2.5))\n",
    "plt.axhline(y=1.10, linestyle='--', color=\"gray\")\n",
    "plt.title('R-hat (fixed window)')\n",
    "plt.legend()\n",
    "plt.xlabel('Iteration Windows(*500)')\n",
    "\n",
    "plt.figure()\n",
    "plt.plot(np.mean(R_hat_mean_halfway, axis=1), label='mean')\n",
    "plt.plot(np.mean(R_hat_sigma_halfway, axis=1), label='sigma')\n",
    "plt.axhline(y=1.10, linestyle='--', color=\"gray\")\n",
    "plt.legend()\n",
    "plt.title('R-hat halfway (moving window)')\n",
    "plt.ylim((0.8,2.5))"
   ]
  },
  {
   "cell_type": "markdown",
   "metadata": {},
   "source": [
    "####  Distance from true mean values for the optimisers"
   ]
  },
  {
   "cell_type": "code",
   "execution_count": null,
   "metadata": {},
   "outputs": [],
   "source": [
    "plt.loglog(np.mean(np.sqrt(np.square(klvi_var_param_list_rms[0][op_log_mf_rms['start_avg_mean_iters']:,:k] - true_mean)), axis=1), label='RMSProp')\n",
    "plt.loglog(np.mean(np.sqrt(np.square(avg_klvi_mean_list_rms[0] - true_mean)), axis=1), label='RMSProp-IA')\n",
    "plt.xlabel('Iterations since convergence')\n",
    "plt.ylabel('distance')\n",
    "plt.title('Mean l2 distance ')\n",
    "plt.legend()"
   ]
  },
  {
   "cell_type": "markdown",
   "metadata": {},
   "source": [
    "##### Rhat plot for mean parameter computed for fixed window size of 500."
   ]
  },
  {
   "cell_type": "code",
   "execution_count": null,
   "metadata": {},
   "outputs": [],
   "source": [
    "plt.plot(np.max(R_hat_mean_window,axis=1), label='Max')\n",
    "plt.plot(np.mean(R_hat_mean_window,axis=1), label='Mean')\n",
    "plt.plot(np.median(R_hat_mean_window,axis=1), label='Median')\n",
    "plt.ylim((0.9,1.9))\n",
    "plt.axhline(y=1.10, linestyle='--', color=\"gray\")\n",
    "plt.legend()"
   ]
  },
  {
   "cell_type": "markdown",
   "metadata": {},
   "source": [
    "##### Rhat plot for sigma parameter computed for fixed window size of 500."
   ]
  },
  {
   "cell_type": "code",
   "execution_count": null,
   "metadata": {},
   "outputs": [],
   "source": [
    "plt.plot(np.max(R_hat_sigma_window,axis=1), label='Max')\n",
    "plt.plot(np.mean(R_hat_sigma_window,axis=1), label='Mean')\n",
    "plt.plot(np.median(R_hat_sigma_window,axis=1), label='Median')\n",
    "plt.ylim((0.9,3.2))\n",
    "plt.axhline(y=1.30, linestyle='--', color=\"gray\")\n",
    "plt.legend()\n",
    "plt.figure()\n",
    "plt.plot(np.max(R_hat_sigma_halfway,axis=1), label='Max')\n",
    "plt.plot(np.mean(R_hat_sigma_halfway,axis=1), label='Mean')\n",
    "plt.plot(np.median(R_hat_sigma_halfway,axis=1), label='Median')\n",
    "plt.ylim((0.9,3.2))\n",
    "plt.axhline(y=1.30, linestyle='--', color=\"gray\")\n",
    "plt.legend()"
   ]
  },
  {
   "cell_type": "markdown",
   "metadata": {},
   "source": [
    "####  Distance from true std dev. values for the optimisers"
   ]
  },
  {
   "cell_type": "code",
   "execution_count": null,
   "metadata": {},
   "outputs": [],
   "source": [
    "plt.loglog(np.mean(np.sqrt(np.square(np.exp(klvi_var_param_list_rms[0][op_log_mf_rms['start_avg_sigma_iters']:,k:]) - true_std)), axis=1), label='RMSP')\n",
    "plt.loglog(np.mean(np.sqrt(np.square(np.exp(avg_klvi_sigmas_list_rms[0]) - true_std)), axis=1), label='RMSP-IA')\n",
    "plt.xlabel('Iterations since convergence')\n",
    "plt.ylabel('distance')\n",
    "plt.title('sigma l2 distance')\n",
    "plt.legend()"
   ]
  },
  {
   "cell_type": "markdown",
   "metadata": {},
   "source": [
    "####  Distance from true z-score values for the optimisers"
   ]
  },
  {
   "cell_type": "code",
   "execution_count": null,
   "metadata": {},
   "outputs": [],
   "source": [
    "plt.loglog(np.mean(np.sqrt(np.square(klvi_var_param_list_rms[0][op_log_mf_rms['start_avg_mean_iters']:,:k] - true_mean)/true_std), axis=1), label='RMSProp')\n",
    "plt.loglog(np.mean(np.sqrt(np.square(avg_klvi_mean_list_rms[0] - true_mean)/true_std), axis=1), label='RMSProp-IA')\n",
    "plt.xlabel('Iterations since convergence')\n",
    "plt.ylabel('z-score')\n",
    "plt.title('Mean z-score')\n",
    "plt.legend()"
   ]
  },
  {
   "cell_type": "markdown",
   "metadata": {},
   "source": [
    "##### Same as above but with path gradients"
   ]
  },
  {
   "cell_type": "code",
   "execution_count": null,
   "metadata": {},
   "outputs": [],
   "source": [
    "klvi_var_param_rms_pd, klvi_var_param_list_rms_pd,  avg_klvi_mean_list_rms_pd, avg_klvi_sigmas_list_rms_pd, klvi_history_rms_pd, _, op_log_mf_rms_pd = \\\n",
    "    rmsprop_IA_optimize_with_rhat(7000, klvi_mf_objective_and_grad_pd, init_var_param, k, learning_rate=.01,n_optimisers=1)"
   ]
  },
  {
   "cell_type": "markdown",
   "metadata": {},
   "source": [
    "###### Iterations taken to converge to stationary distribution Brownian motion according to r-hat"
   ]
  },
  {
   "cell_type": "code",
   "execution_count": null,
   "metadata": {},
   "outputs": [],
   "source": [
    "print('Iterations:', op_log_mf_rms_pd['start_avg_mean_iters'])\n",
    "print('Iterations:', op_log_mf_rms_pd['start_avg_sigma_iters'])"
   ]
  },
  {
   "cell_type": "code",
   "execution_count": null,
   "metadata": {},
   "outputs": [],
   "source": [
    "plt.plot(np.mean(np.sqrt(np.square(klvi_var_param_list_rms_pd[0][op_log_mf_rms_pd['start_avg_mean_iters']:,:k] - true_mean)), axis=1), label='RMSProp')\n",
    "plt.plot(np.mean(np.sqrt(np.square(avg_klvi_mean_list_rms_pd[0] - true_mean.T)), axis=1), label='RMSProp-IA')\n",
    "plt.xlabel('Iterations since convergence')\n",
    "plt.ylabel('distance')\n",
    "plt.title('Mean l2 distance (path gradients) ')\n",
    "plt.legend()"
   ]
  },
  {
   "cell_type": "code",
   "execution_count": null,
   "metadata": {},
   "outputs": [],
   "source": [
    "plt.plot(np.mean(np.sqrt(np.square(klvi_var_param_list_rms_pd[0][op_log_mf_rms_pd['start_avg_sigma_iters']:,k:] - np.log(true_std))), axis=1), label='RMSProp_PD')\n",
    "plt.plot(np.mean(np.sqrt(np.square(avg_klvi_sigmas_list_rms_pd[0] - np.log(true_std))), axis=1), label='RMSProp_PD-IA')\n",
    "plt.xlabel('Iterations since convergence')\n",
    "plt.ylabel('distance')\n",
    "plt.title('sigma l2 norm')\n",
    "plt.legend()"
   ]
  },
  {
   "cell_type": "markdown",
   "metadata": {},
   "source": [
    "### Now we use Full rank Gaussian as proposal density."
   ]
  },
  {
   "cell_type": "code",
   "execution_count": null,
   "metadata": {},
   "outputs": [],
   "source": [
    "klvi_fr_var_param_rms, klvi_fr_var_param_list_rms, avg_klvi_fr_mean_list_rms, avg_klvi_fr_sigmas_list_rms, fr_klvi_history_rms, _, op_log_fr_rms = \\\n",
    "    rmsprop_IA_optimize_with_rhat(13000, klvi_fr_objective_and_grad, init_fr_var_param, k, learning_rate=.01,n_optimisers=2, r_mean_threshold=1.15)"
   ]
  },
  {
   "cell_type": "code",
   "execution_count": null,
   "metadata": {},
   "outputs": [],
   "source": [
    "fr_g_var_family"
   ]
  },
  {
   "cell_type": "markdown",
   "metadata": {},
   "source": [
    "##### Iterations taken for convergence with RMSProp using R-hat fixed window statistic"
   ]
  },
  {
   "cell_type": "code",
   "execution_count": null,
   "metadata": {},
   "outputs": [],
   "source": [
    "print('Iterations for mean parameters:',op_log_fr_rms['start_avg_mean_iters'])\n",
    "print('Iterations for sigma parameters:',op_log_fr_rms['start_avg_sigma_iters'])"
   ]
  },
  {
   "cell_type": "code",
   "execution_count": null,
   "metadata": {},
   "outputs": [],
   "source": [
    "R_hat_mean_window_fr = op_log_fr_rms['r_hat_mean']\n",
    "R_hat_sigma_window_fr = op_log_fr_rms['r_hat_sigma']\n",
    "R_hat_mean_halfway_fr = op_log_fr_rms['r_hat_mean_halfway']\n",
    "R_hat_sigma_halfway_fr = op_log_fr_rms['r_hat_sigma_halfway']"
   ]
  },
  {
   "cell_type": "code",
   "execution_count": null,
   "metadata": {},
   "outputs": [],
   "source": [
    "cov_iters_fr_rms = [fr_g_var_family.mean_and_cov(a)[1] for a in klvi_fr_var_param_list_rms[0]]\n",
    "mean_iters_fr_rms = [fr_g_var_family.mean_and_cov(a)[0] for a in klvi_fr_var_param_list_rms[0]]\n"
   ]
  },
  {
   "cell_type": "code",
   "execution_count": null,
   "metadata": {},
   "outputs": [],
   "source": [
    "cov_iters_fr_rms_flat = [fr_g_var_family.mean_and_cov(a)[1].flatten() for a in klvi_fr_var_param_list_rms[0]]\n",
    "cov_iters_fr_rms_std = [np.sqrt(np.diag(fr_g_var_family.mean_and_cov(a)[1])) for a in klvi_fr_var_param_list_rms[0]]"
   ]
  },
  {
   "cell_type": "code",
   "execution_count": null,
   "metadata": {},
   "outputs": [],
   "source": [
    "cov_iters_fr_rms_ia = [fr_g_var_family.mean_and_cov(np.hstack((np.zeros(k), a)))[1] for a in avg_klvi_fr_sigmas_list_rms[0]]\n",
    "cov_iters_fr_rms_ia_flat = [fr_g_var_family.mean_and_cov(np.hstack((np.zeros(k), a)))[1].flatten() for a in avg_klvi_fr_sigmas_list_rms[0]]\n",
    "cov_iters_fr_rms_ia_std = [np.sqrt(np.diag(fr_g_var_family.mean_and_cov(np.hstack((np.zeros(k), a)))[1])) for a in avg_klvi_fr_sigmas_list_rms[0]]"
   ]
  },
  {
   "cell_type": "code",
   "execution_count": null,
   "metadata": {},
   "outputs": [],
   "source": [
    "print(true_cov.shape)\n",
    "print(cov_iters_fr_rms_ia[0].shape)"
   ]
  },
  {
   "cell_type": "code",
   "execution_count": null,
   "metadata": {},
   "outputs": [],
   "source": [
    "print('Difference between analytical mean and VI-RMSProp-IA mean:', np.sum(np.square(avg_klvi_fr_mean_list_rms[0][-1] - true_mean)))\n",
    "print('Difference between analytical mean and VI-RMSProp mean:', np.sum(np.square(klvi_var_param_list_rms[0][-1,:k] - true_mean)))\n",
    "print('Difference between analytical cov and VI-RMSProp-IA cov:', np.sum(np.square(cov_iters_fr_rms_ia[-1] -true_cov)))\n",
    "print('Difference between analytical cov and VI-RMSProp cov:', np.sum(np.square(cov_iters_fr_rms[-1] - true_cov)))\n",
    "print('Difference between analytical std dev and VI-RMSProp-IA std dev:', np.sum(np.square(cov_iters_fr_rms_ia_std[-1] -true_std)))\n",
    "print('Difference between analytical std dev and VI-RMSProp std dev:', np.sum(np.square(cov_iters_fr_rms_std[-1] - true_std)))\n",
    "\n",
    "print('Difference between analytical z-score and VI-RMSProp-IA z-score:', np.sqrt(np.mean(np.square((avg_klvi_fr_mean_list_rms[0][-1] - true_mean)/true_std))))\n",
    "print('Difference between analytical z-score and VI-RMSProp z-score:', np.sqrt(np.mean(np.square((klvi_var_param_list_rms[0][-1,:k] - true_mean)/true_std))))"
   ]
  },
  {
   "cell_type": "markdown",
   "metadata": {},
   "source": [
    "##### Plot for R-hat (fixed window) and R-hat halfway for full rank approximation .\n",
    "The Rhat halfway is computed at interval of 100 iterations using the last 50% iterations, while Rhat window uses fixed windows of 500 iterations .., we here plot the Rhats averaged over all the dimensions."
   ]
  },
  {
   "cell_type": "code",
   "execution_count": null,
   "metadata": {},
   "outputs": [],
   "source": [
    "plt.plot(np.repeat(np.mean(R_hat_mean_window_fr, axis=1), 500), label='mean')\n",
    "plt.plot(np.repeat(np.mean(R_hat_sigma_window_fr, axis=1), 500), label='sigma')\n",
    "plt.ylim((0.8,5.9))\n",
    "plt.axhline(y=1.10, linestyle='--', color=\"gray\")\n",
    "plt.title('R-hat (fixed window)')\n",
    "plt.xlabel('Iteration Windows(*500)')\n",
    "\n",
    "plt.figure()\n",
    "plt.plot(np.mean(R_hat_mean_halfway_fr, axis=1))\n",
    "plt.plot(np.mean(R_hat_sigma_halfway_fr, axis=1))\n",
    "plt.axhline(y=1.10, linestyle='--', color=\"gray\")\n",
    "plt.title('R-hat halfway (moving window)')\n",
    "plt.ylim((0.8,2.1))"
   ]
  },
  {
   "cell_type": "markdown",
   "metadata": {},
   "source": [
    "#### The staircase behaviour is because the r hat is computed only after 500 iterations ... "
   ]
  },
  {
   "cell_type": "markdown",
   "metadata": {},
   "source": [
    "#### Plot for evolution of difference between mean-parameter  and true mean after convergence detected by R-hat"
   ]
  },
  {
   "cell_type": "code",
   "execution_count": null,
   "metadata": {},
   "outputs": [],
   "source": [
    "plt.loglog(np.mean(np.sqrt(np.square(mean_iters_fr_rms[op_log_fr_rms['start_avg_mean_iters']:] - true_mean)), axis=1), label='RMSProp')\n",
    "plt.loglog(np.mean(np.sqrt(np.square(avg_klvi_fr_mean_list_rms[0] - true_mean)), axis=1), label='RMSProp-IA')\n",
    "plt.xlabel('Iterations since convergence')\n",
    "plt.ylabel('distance')\n",
    "plt.title('Mean l2 distance(FRVI)')\n",
    "plt.legend()"
   ]
  },
  {
   "cell_type": "markdown",
   "metadata": {},
   "source": [
    "#### Plot for evolution of difference between approximate covariance matrix and true covariance matrix."
   ]
  },
  {
   "cell_type": "code",
   "execution_count": null,
   "metadata": {},
   "outputs": [],
   "source": [
    "plt.loglog(np.mean(np.sqrt(np.square(cov_iters_fr_rms_flat[op_log_fr_rms['start_avg_sigma_iters']:] - true_cov.flatten())), axis=1), label='RMSProp')\n",
    "plt.loglog(np.mean(np.sqrt(np.square(cov_iters_fr_rms_ia_flat - true_cov.flatten())), axis=1), label='RMSProp-IA')\n",
    "plt.xlabel('Iterations since convergence')\n",
    "plt.ylabel('distance')\n",
    "plt.title('distance between covariance flattened(FRVI)')\n",
    "plt.legend()"
   ]
  },
  {
   "cell_type": "markdown",
   "metadata": {},
   "source": [
    "#### Plot for evolution of difference between approximate marginal std dev.  and true marginals"
   ]
  },
  {
   "cell_type": "code",
   "execution_count": null,
   "metadata": {},
   "outputs": [],
   "source": [
    "plt.loglog(np.mean(np.sqrt(np.square(cov_iters_fr_rms_std[op_log_fr_rms['start_avg_sigma_iters']:] - true_std)), axis=1), label='RMSProp')\n",
    "plt.loglog(np.mean(np.sqrt(np.square(cov_iters_fr_rms_ia_std - true_std)), axis=1), label='RMSProp-IA')\n",
    "plt.xlabel('Iterations since convergence')\n",
    "plt.ylabel('distance')\n",
    "plt.title('distance between true and estimated marginal std dev. flattened(FRVI)')\n",
    "plt.legend()"
   ]
  },
  {
   "cell_type": "markdown",
   "metadata": {},
   "source": [
    "#### Plot for evolution of difference between approximate z-score.  and true z-score"
   ]
  },
  {
   "cell_type": "code",
   "execution_count": null,
   "metadata": {},
   "outputs": [],
   "source": [
    "plt.loglog(np.mean(np.sqrt(np.square(mean_iters_fr_rms[op_log_fr_rms['start_avg_mean_iters']:] - true_mean)/true_std), axis=1), label='RMSProp')\n",
    "plt.loglog(np.mean(np.sqrt(np.square(avg_klvi_fr_mean_list_rms[0] - true_mean)/true_std), axis=1), label='RMSProp-IA')\n",
    "plt.xlabel('Iterations since convergence')\n",
    "plt.ylabel('z-score')\n",
    "plt.title('distance between z-score averaged(FRVI) ')\n",
    "plt.legend()"
   ]
  },
  {
   "cell_type": "code",
   "execution_count": null,
   "metadata": {},
   "outputs": [],
   "source": [
    "#plt.loglog(np.mean(np.sqrt(np.square(np.exp(klvi_fr_var_param_list_rms[0][op_log_fr_rms['start_avg_sigma_iters']:,k:]) - true_std)), axis=1), label='RMSP')\n",
    "#plt.loglog(np.mean(np.sqrt(np.square(np.exp(avg_klvi_fr_var_param_list_rms[0][:,k:]) - true_std)), axis=1), label='RMSP-IA')\n",
    "#plt.xlabel('Iterations since convergence')\n",
    "#plt.ylabel('z-score')\n",
    "#plt.title('Mean z-score')\n",
    "#plt.legend()"
   ]
  },
  {
   "cell_type": "markdown",
   "metadata": {},
   "source": [
    "### ADAM Optimiser\n",
    "#### Same expts as above but with ADAM optimiser"
   ]
  },
  {
   "cell_type": "code",
   "execution_count": 36,
   "metadata": {},
   "outputs": [
    {
     "name": "stderr",
     "output_type": "stream",
     "text": [
      "Average Loss = 100.979: 100%|██████████| 9000/9000 [02:45<00:00, 54.44it/s] \n"
     ]
    },
    {
     "name": "stdout",
     "output_type": "stream",
     "text": [
      "start stats:\n",
      "(1, 3000, 40)\n"
     ]
    },
    {
     "name": "stderr",
     "output_type": "stream",
     "text": [
      "/anaconda3/envs/viabel_env/lib/python3.6/site-packages/numpy/core/fromnumeric.py:3584: RuntimeWarning: Degrees of freedom <= 0 for slice\n",
      "  **kwargs)\n",
      "/anaconda3/envs/viabel_env/lib/python3.6/site-packages/numpy/core/_methods.py:207: RuntimeWarning: invalid value encountered in true_divide\n",
      "  ret, rcount, out=ret, casting='unsafe', subok=False)\n",
      "/anaconda3/envs/viabel_env/lib/python3.6/site-packages/autograd/tracer.py:48: RuntimeWarning: invalid value encountered in log1p\n",
      "  return f_raw(*args, **kwargs)\n",
      "../viabel/optimization_diagnostics.py:149: RuntimeWarning: invalid value encountered in greater_equal\n",
      "  real_idxs = weights >= 10 * np.finfo(float).eps\n",
      "../viabel/optimization_diagnostics.py:162: RuntimeWarning: divide by zero encountered in double_scalars\n",
      "  sigma = -k_post / b_post\n"
     ]
    }
   ],
   "source": [
    "klvi_var_param_adam, klvi_var_param_list_adam, avg_klvi_mean_list_adam, avg_klvi_sigmas_list_adam, klvi_history_adam, _, op_log_mf_adam = \\\n",
    "    adam_IA_optimize_with_rhat(9000, klvi_mf_objective_and_grad, init_var_param, k, learning_rate=.01,n_optimisers=1, r_mean_threshold=1.10, tail_avg_iters=3000)"
   ]
  },
  {
   "cell_type": "markdown",
   "metadata": {},
   "source": [
    "###### Iterations taken to converge to stationary distribution Brownian motion according to r-hat"
   ]
  },
  {
   "cell_type": "code",
   "execution_count": 37,
   "metadata": {},
   "outputs": [
    {
     "name": "stdout",
     "output_type": "stream",
     "text": [
      "6500\n",
      "6000\n"
     ]
    }
   ],
   "source": [
    "print(op_log_mf_adam['start_avg_mean_iters'])\n",
    "print(op_log_mf_adam['start_avg_sigma_iters'])\n",
    "\n",
    "R_hat_mean_window_adam = op_log_mf_adam['r_hat_mean']\n",
    "R_hat_sigma_window_adam = op_log_mf_adam['r_hat_sigma']\n",
    "R_hat_mean_halfway_adam = op_log_mf_adam['r_hat_mean_halfway']\n",
    "R_hat_sigma_halfway_adam = op_log_mf_adam['r_hat_sigma_halfway']"
   ]
  },
  {
   "cell_type": "markdown",
   "metadata": {},
   "source": [
    "##### Plot for R-hat (fixed window) and R-hat halfway for ADAM optimiser\n",
    "The Rhat halfway is computed at interval of 100 iterations using the last 50% iterations, while Rhat window uses fixed windows of 500 iterations .., we here plot the Rhats averaged over all the dimensions."
   ]
  },
  {
   "cell_type": "code",
   "execution_count": 38,
   "metadata": {},
   "outputs": [
    {
     "data": {
      "text/plain": [
       "(0.8, 3.5)"
      ]
     },
     "execution_count": 38,
     "metadata": {},
     "output_type": "execute_result"
    },
    {
     "data": {
      "image/png": "[encoded data removed]",
      "text/plain": [
       "<Figure size 432x288 with 1 Axes>"
      ]
     },
     "metadata": {},
     "output_type": "display_data"
    },
    {
     "data": {
      "image/png": "[encoded data removed]",
      "text/plain": [
       "<Figure size 432x288 with 1 Axes>"
      ]
     },
     "metadata": {},
     "output_type": "display_data"
    }
   ],
   "source": [
    "plt.plot(np.repeat(np.mean(R_hat_mean_window_adam, axis=1), 500), label='mean')\n",
    "plt.plot(np.repeat(np.mean(R_hat_sigma_window_adam, axis=1), 500), label='sigma')\n",
    "plt.ylim((0.8,3.5))\n",
    "plt.axhline(y=1.10, linestyle='--', color=\"gray\")\n",
    "plt.title('R-hat (fixed window)')\n",
    "plt.legend()\n",
    "plt.xlabel('Iteration Windows(*500)')\n",
    "\n",
    "plt.figure()\n",
    "plt.plot(np.mean(R_hat_mean_halfway_adam, axis=1), label='mean')\n",
    "plt.plot(np.mean(R_hat_sigma_halfway_adam, axis=1), label='sigma')\n",
    "plt.axhline(y=1.10, linestyle='--', color=\"gray\")\n",
    "plt.legend()\n",
    "plt.title('R-hat halfway (moving window)')\n",
    "plt.ylim((0.8,3.5))"
   ]
  },
  {
   "cell_type": "markdown",
   "metadata": {},
   "source": [
    "####  Distance from true mean values for the optimisers"
   ]
  },
  {
   "cell_type": "code",
   "execution_count": 41,
   "metadata": {},
   "outputs": [
    {
     "data": {
      "image/png": "[encoded data removed]",
      "text/plain": [
       "<Figure size 432x288 with 1 Axes>"
      ]
     },
     "metadata": {},
     "output_type": "display_data"
    }
   ],
   "source": [
    "plt.loglog(np.sqrt(np.mean(np.square(klvi_var_param_list_adam[0][op_log_mf_adam['start_avg_mean_iters']:,:k] - true_mean),axis=1)), label='RMSProp')\n",
    "plt.loglog(np.sqrt(np.mean(np.square(avg_klvi_mean_list_adam[0] - true_mean),axis=1)), label='RMSProp-IA')\n",
    "plt.xlabel('Iterations since convergence')\n",
    "plt.ylabel('distance')\n",
    "plt.title('Mean l2 distance ')\n",
    "plt.legend()\n",
    "plt.savefig('lin_reg_adam_error_mean.pdf')"
   ]
  },
  {
   "cell_type": "markdown",
   "metadata": {},
   "source": [
    "####  Distance from true sigma values for the optimisers"
   ]
  },
  {
   "cell_type": "code",
   "execution_count": null,
   "metadata": {},
   "outputs": [],
   "source": [
    "plt.loglog(np.mean(np.sqrt(np.square(np.exp(klvi_var_param_list_adam[0][op_log_mf_adam['start_avg_sigma_iters']:,k:]) - true_std)), axis=1), label='RMSP')\n",
    "plt.loglog(np.mean(np.sqrt(np.square(np.exp(avg_klvi_sigmas_list_adam[0]) - true_std)), axis=1), label='RMSP-IA')\n",
    "plt.xlabel('Iterations since convergence')\n",
    "plt.ylabel('distance')\n",
    "plt.title('sigma l2 distance')\n",
    "plt.legend()"
   ]
  },
  {
   "cell_type": "markdown",
   "metadata": {},
   "source": [
    "####  Distance from true z-score values for the optimisers"
   ]
  },
  {
   "cell_type": "code",
   "execution_count": null,
   "metadata": {},
   "outputs": [],
   "source": [
    "plt.loglog(np.mean(np.sqrt(np.square(klvi_var_param_list_adam[0][op_log_mf_adam['start_avg_mean_iters']:,:k] - true_mean)/true_std), axis=1), label='RMSProp')\n",
    "plt.loglog(np.mean(np.sqrt(np.square(avg_klvi_mean_list_adam[0] - true_mean)/true_std), axis=1), label='RMSProp-IA')\n",
    "plt.xlabel('Iterations since convergence')\n",
    "plt.ylabel('z-score')\n",
    "plt.title('Mean z-score')\n",
    "plt.legend()"
   ]
  },
  {
   "cell_type": "markdown",
   "metadata": {},
   "source": [
    "## Full rank ADVI with ADAM."
   ]
  },
  {
   "cell_type": "code",
   "execution_count": null,
   "metadata": {},
   "outputs": [],
   "source": [
    "klvi_fr_var_param_adam, klvi_fr_var_param_list_adam,  avg_klvi_fr_mean_list_adam, avg_klvi_fr_sigmas_list_adam, fr_klvi_history_adam, _, op_log_fr_adam = \\\n",
    "    adam_IA_optimize_with_rhat(15000, klvi_fr_objective_and_grad, init_fr_var_param, k, learning_rate=.01,n_optimisers=2, r_mean_threshold=1.15)"
   ]
  },
  {
   "cell_type": "code",
   "execution_count": null,
   "metadata": {},
   "outputs": [],
   "source": [
    "R_hat_mean_window_fr_adam = op_log_fr_adam['r_hat_mean']\n",
    "R_hat_sigma_window_fr_adam = op_log_fr_adam['r_hat_sigma']\n",
    "R_hat_mean_halfway_fr_adam = op_log_fr_adam['r_hat_mean_halfway']\n",
    "R_hat_sigma_halfway_fr_adam = op_log_fr_adam['r_hat_sigma_halfway']"
   ]
  },
  {
   "cell_type": "code",
   "execution_count": null,
   "metadata": {},
   "outputs": [],
   "source": [
    "cov_iters_fr_adam = [fr_g_var_family.mean_and_cov(a)[1] for a in klvi_fr_var_param_list_adam[0]]\n",
    "mean_iters_fr_adam = [fr_g_var_family.mean_and_cov(a)[0] for a in klvi_fr_var_param_list_adam[0]]"
   ]
  },
  {
   "cell_type": "code",
   "execution_count": null,
   "metadata": {},
   "outputs": [],
   "source": [
    "cov_iters_fr_adam_flat = [fr_g_var_family.mean_and_cov(a)[1].flatten() for a in klvi_fr_var_param_list_adam[0]]\n",
    "cov_iters_fr_adam_std = [np.sqrt(np.diag(fr_g_var_family.mean_and_cov(a)[1])) for a in klvi_fr_var_param_list_adam[0]]"
   ]
  },
  {
   "cell_type": "code",
   "execution_count": null,
   "metadata": {},
   "outputs": [],
   "source": [
    "cov_iters_fr_adam_ia = [fr_g_var_family.mean_and_cov(np.hstack((np.zeros(k), a)))[1] for a in avg_klvi_fr_sigmas_list_adam[0]]\n",
    "cov_iters_fr_adam_ia_flat = [fr_g_var_family.mean_and_cov(np.hstack((np.zeros(k), a)))[1].flatten() for a in avg_klvi_fr_sigmas_list_adam[0]]\n",
    "cov_iters_fr_adam_ia_std = [np.sqrt(np.diag(fr_g_var_family.mean_and_cov(np.hstack((np.zeros(k), a)))[1])) for a in avg_klvi_fr_sigmas_list_adam[0]]"
   ]
  },
  {
   "cell_type": "markdown",
   "metadata": {},
   "source": [
    "#### Iterations taken to converge according to Rhat fixed window"
   ]
  },
  {
   "cell_type": "code",
   "execution_count": null,
   "metadata": {},
   "outputs": [],
   "source": [
    "print('Mean parameter (FRVI ADAM):', op_log_fr_adam['start_avg_mean_iters'])\n",
    "print('log sigma parameter(FRVI ADAM):', op_log_fr_adam['start_avg_sigma_iters'])"
   ]
  },
  {
   "cell_type": "code",
   "execution_count": null,
   "metadata": {},
   "outputs": [],
   "source": [
    "plt.plot(np.repeat(np.mean(R_hat_mean_window_fr_adam, axis=1), 500), label='mean')\n",
    "plt.plot(np.repeat(np.mean(R_hat_sigma_window_fr_adam, axis=1), 500), label='sigma')\n",
    "plt.ylim((0.8,5.9))\n",
    "plt.axhline(y=1.10, linestyle='--', color=\"gray\")\n",
    "plt.title('R-hat (fixed window)')\n",
    "plt.xlabel('Iteration Windows(*500)')\n",
    "\n",
    "plt.figure()\n",
    "plt.plot(np.mean(R_hat_mean_halfway_fr_adam, axis=1))\n",
    "plt.plot(np.mean(R_hat_sigma_halfway_fr_adam, axis=1))\n",
    "plt.axhline(y=1.10, linestyle='--', color=\"gray\")\n",
    "plt.title('R-hat halfway (moving window)')\n",
    "plt.ylim((0.8,2.1))"
   ]
  },
  {
   "cell_type": "markdown",
   "metadata": {},
   "source": [
    "#### Distance between true mean and approximate mean for ADAM and avaraged ADAM optimisers"
   ]
  },
  {
   "cell_type": "code",
   "execution_count": null,
   "metadata": {},
   "outputs": [],
   "source": [
    "plt.loglog(np.mean(np.sqrt(np.square(mean_iters_fr_adam[op_log_fr_adam['start_avg_mean_iters']:] - true_mean)), axis=1), label='RMSProp')\n",
    "plt.loglog(np.mean(np.sqrt(np.square(avg_klvi_fr_mean_list_adam[0] - true_mean)), axis=1), label='RMSProp-IA')\n",
    "plt.xlabel('Iterations since convergence')\n",
    "plt.ylabel('distance')\n",
    "plt.title('Mean l2 distance(FRVI)-ADAM')\n",
    "plt.legend()"
   ]
  },
  {
   "cell_type": "markdown",
   "metadata": {},
   "source": [
    "#### Distance between true covariance and approximate covariance for ADAM and avaraged ADAM optimisers"
   ]
  },
  {
   "cell_type": "code",
   "execution_count": null,
   "metadata": {},
   "outputs": [],
   "source": [
    "plt.loglog(np.mean(np.sqrt(np.square(cov_iters_fr_adam_flat[op_log_fr_adam['start_avg_sigma_iters']:] - true_cov.flatten())), axis=1), label='ADAM')\n",
    "plt.loglog(np.mean(np.sqrt(np.square(cov_iters_fr_adam_ia_flat - true_cov.flatten())), axis=1), label='ADAM-IA')\n",
    "plt.xlabel('Iterations since convergence')\n",
    "plt.ylabel('Distance')\n",
    "plt.title('Difference between Sigmas(FRVI)-ADAM')\n",
    "plt.legend()"
   ]
  },
  {
   "cell_type": "markdown",
   "metadata": {},
   "source": [
    "#### Distance between true std dev. and approximate std dev. for ADAM and averaged ADAM optimisers"
   ]
  },
  {
   "cell_type": "code",
   "execution_count": null,
   "metadata": {},
   "outputs": [],
   "source": [
    "plt.loglog(np.mean(np.sqrt(np.square(cov_iters_fr_adam_std[op_log_fr_adam['start_avg_sigma_iters']:] - true_std)), axis=1), label='ADAM')\n",
    "plt.loglog(np.mean(np.sqrt(np.square(cov_iters_fr_adam_ia_std - true_std)), axis=1), label='ADAM-IA')\n",
    "plt.xlabel('Iterations since convergence')\n",
    "plt.ylabel('Distance')\n",
    "plt.title('Distance between marginal std devs(FRVI)-ADAM')\n",
    "plt.legend()"
   ]
  },
  {
   "cell_type": "markdown",
   "metadata": {},
   "source": [
    "#### Distance between true z-scores. and approximate z-scores for ADAM and averaged ADAM optimisers"
   ]
  },
  {
   "cell_type": "code",
   "execution_count": null,
   "metadata": {},
   "outputs": [],
   "source": [
    "plt.loglog(np.mean(np.sqrt(np.square(mean_iters_fr_adam[op_log_fr_adam['start_avg_mean_iters']:] - true_mean)/true_std), axis=1), label='RMSProp')\n",
    "plt.loglog(np.mean(np.sqrt(np.square(avg_klvi_fr_mean_list_adam[0] - true_mean)/true_std), axis=1), label='RMSProp-IA')\n",
    "plt.xlabel('Iterations since convergence')\n",
    "plt.ylabel('z-score')\n",
    "plt.title('distance between z-score averaged(FRVI)-ADAM')\n",
    "plt.legend()"
   ]
  },
  {
   "cell_type": "markdown",
   "metadata": {},
   "source": [
    "## Mean-field variational inference with CHIVI\n",
    "\n",
    "We can repeat the same procedure, but this time using CHIVI and a Student t mean-field variational family. "
   ]
  },
  {
   "cell_type": "code",
   "execution_count": null,
   "metadata": {},
   "outputs": [],
   "source": []
  }
 ],
 "metadata": {
  "kernelspec": {
   "display_name": "Python (viabel_env)",
   "language": "python",
   "name": "viabel_env"
  },
  "language_info": {
   "codemirror_mode": {
    "name": "ipython",
    "version": 3
   },
   "file_extension": ".py",
   "mimetype": "text/x-python",
   "name": "python",
   "nbconvert_exporter": "python",
   "pygments_lexer": "ipython3",
   "version": "3.6.10"
  }
 },
 "nbformat": 4,
 "nbformat_minor": 2
}
