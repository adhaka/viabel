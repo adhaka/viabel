{
 "cells": [
  {
   "cell_type": "markdown",
   "metadata": {},
   "source": [
    "######   Robust Optimization for Robust Regression ##############\n",
    "This notebook contains all the optimisers enabled with the various convergence and quality diagnostics presented in the paper: https://arxiv.org/abs/2009.00666, wherein the true posterior belongs to the t-family, and we use a mean field t-distribution as the approximation. The diagnostics also work for full rank and Gaussian approximations. "
   ]
  },
  {
   "cell_type": "code",
   "execution_count": 1,
   "metadata": {},
   "outputs": [],
   "source": [
    "import sys, os\n",
    "sys.path.append('..')\n",
    "sys.path.append('../..')"
   ]
  },
  {
   "cell_type": "code",
   "execution_count": 2,
   "metadata": {},
   "outputs": [],
   "source": [
    "import autograd"
   ]
  },
  {
   "cell_type": "code",
   "execution_count": 3,
   "metadata": {},
   "outputs": [],
   "source": [
    "import pickle"
   ]
  },
  {
   "cell_type": "code",
   "execution_count": 4,
   "metadata": {},
   "outputs": [],
   "source": [
    "import pystan"
   ]
  },
  {
   "cell_type": "code",
   "execution_count": 5,
   "metadata": {},
   "outputs": [],
   "source": [
    "import matplotlib.pyplot as plt\n",
    "import seaborn as sns\n",
    "import autograd.numpy as np\n",
    "#import pystan\n",
    "from viabel import all_bounds\n",
    "from viabel.vb import (mean_field_gaussian_variational_family,\n",
    "                       mean_field_t_variational_family,\n",
    "                       t_variational_family,\n",
    "                       black_box_klvi,\n",
    "                       black_box_chivi,\n",
    "                       make_stan_log_density,\n",
    "                      )\n",
    "\n",
    "from experiments import (get_samples_and_log_weights, \n",
    "                         improve_with_psis,\n",
    "                         plot_history, \n",
    "                         plot_approx_and_exact_contours, \n",
    "                         plot_dist_to_opt_param,\n",
    "                         check_approx_accuracy,\n",
    "                         psis_correction,\n",
    "                         print_bounds)\n",
    "\n",
    "#from data_generator import (data_generator_linear)\n",
    "\n",
    "sns.set_style('white')\n",
    "sns.set_context('notebook', font_scale=2, rc={'lines.linewidth': 2})"
   ]
  },
  {
   "cell_type": "code",
   "execution_count": 6,
   "metadata": {},
   "outputs": [],
   "source": [
    "from viabel.optimizers import rmsprop_workflow_optimize, adam_workflow_optimize, adagrad_workflow_optimize"
   ]
  },
  {
   "cell_type": "markdown",
   "metadata": {},
   "source": [
    "# Linear regression model example\n",
    "\n",
    "We will approximate the posterior for the simple 2D robust linear regression model\n",
    "$$\\beta_i \\sim \\mathcal{N}(0, 10)$$\n",
    "$$y_n | x_n, \\beta, \\sigma \\sim \\mathcal{T}_{1000000}(\\beta^\\top x_n, 1).$$\n",
    "\n",
    "We will use Stan to take care of compute log probabilities and gradients for us. "
   ]
  },
  {
   "cell_type": "code",
   "execution_count": 7,
   "metadata": {},
   "outputs": [],
   "source": [
    "regression_model_code = \"\"\"data {\n",
    "  int<lower=0> N;   // number of observations\n",
    "  matrix[N, 2] x;   // predictor matrix\n",
    "  vector[N] y;      // outcome vector\n",
    "  real<lower=1> df; // degrees of freedom\n",
    "}\n",
    "parameters {\n",
    "  vector[2] beta;       // coefficients for predictors\n",
    "}\n",
    "\n",
    "model {\n",
    "  beta ~ normal(0, 10);\n",
    "  y ~ student_t(df, x * beta, 1);  // likelihood\n",
    "}\"\"\""
   ]
  },
  {
   "cell_type": "code",
   "execution_count": 8,
   "metadata": {},
   "outputs": [],
   "source": [
    "\n",
    "try:\n",
    "    sm = pickle.load(open('robust_reg_model_2222.pkl', 'rb'))\n",
    "except:\n",
    "    sm = pystan.StanModel(model_code=regression_model_code, model_name='regression_model')\n",
    "    with open('robust_reg_model_2222.pkl', 'wb') as f:\n",
    "        pickle.dump(sm, f)\n"
   ]
  },
  {
   "cell_type": "markdown",
   "metadata": {},
   "source": [
    "We generate 25 observations from the model with $\\beta = (-2, 1)$."
   ]
  },
  {
   "cell_type": "code",
   "execution_count": 9,
   "metadata": {},
   "outputs": [],
   "source": [
    "np.random.seed(5039)\n",
    "beta_gen = np.array([-2, 1])\n",
    "N = 25\n",
    "x = np.random.randn(N, 2).dot(np.array([[1,.25],[.25, 1]]))\n",
    "y_raw = x.dot(beta_gen) + np.random.standard_t(40, N)\n",
    "y = y_raw - np.mean(y_raw)"
   ]
  },
  {
   "cell_type": "markdown",
   "metadata": {},
   "source": [
    "First, we generate ground truth samples using Stan's dynamic HMC implementation"
   ]
  },
  {
   "cell_type": "code",
   "execution_count": 10,
   "metadata": {},
   "outputs": [],
   "source": [
    "data = dict(N=N, x=x, y=y, df=40)\n",
    "fit = sm.sampling(data=data, iter=40000, thin=50, chains=4)"
   ]
  },
  {
   "cell_type": "code",
   "execution_count": 11,
   "metadata": {},
   "outputs": [],
   "source": [
    "true_mean = np.mean(fit['beta'], axis=0)\n",
    "true_cov = np.cov(fit['beta'].T)"
   ]
  },
  {
   "cell_type": "code",
   "execution_count": 12,
   "metadata": {},
   "outputs": [],
   "source": [
    "true_std = np.sqrt(np.diag(true_cov))\n",
    "true_var = np.diag(true_cov)"
   ]
  },
  {
   "cell_type": "code",
   "execution_count": 13,
   "metadata": {},
   "outputs": [
    {
     "name": "stdout",
     "output_type": "stream",
     "text": [
      "[-2.15860177  1.09197784]\n",
      "[-1.43465009 -1.42758406]\n"
     ]
    }
   ],
   "source": [
    "print(true_mean)\n",
    "print(np.log(true_std))\n",
    "logdensity = make_stan_log_density(sm)"
   ]
  },
  {
   "cell_type": "code",
   "execution_count": 14,
   "metadata": {},
   "outputs": [
    {
     "data": {
      "image/png": "[encoded data removed]",
      "text/plain": [
       "<Figure size 432x432 with 3 Axes>"
      ]
     },
     "metadata": {},
     "output_type": "display_data"
    }
   ],
   "source": [
    "jp = sns.jointplot(x=fit['beta[1]'], y=fit['beta[2]'], kind='kde')\n",
    "jp.set_axis_labels(r'$\\beta_1$', r'$\\beta_2$')\n",
    "plt.show()"
   ]
  },
  {
   "cell_type": "markdown",
   "metadata": {},
   "source": [
    "## Standard mean-field variational inference\n",
    "\n",
    "Next, we compute a mean field variational approximation using standard variational inference (that is, minimizing the KL-divergence)"
   ]
  },
  {
   "cell_type": "markdown",
   "metadata": {},
   "source": [
    "####  First we use mean field t as proposal density"
   ]
  },
  {
   "cell_type": "markdown",
   "metadata": {},
   "source": [
    "#### RMSProp Optimizer"
   ]
  },
  {
   "cell_type": "code",
   "execution_count": null,
   "metadata": {},
   "outputs": [],
   "source": [
    "mf_t_var_family = mf_t_var_family = mean_field_t_variational_family(2, 40)\n",
    "stan_log_density = make_stan_log_density(fit)\n",
    "klvi_objective_and_grad = black_box_klvi(mf_t_var_family, stan_log_density, 100)\n",
    "k=2\n",
    "init_mean    = np.zeros(2)\n",
    "init_log_std = np.ones(2)\n",
    "init_var_param = np.array([-2.5, 1.5, -0.4, -0.4])\n",
    "init_mean    = np.zeros(k)\n",
    "#init_mean_random = np.random.normal([k], stddev=1.0)\n",
    "init_log_std = np.ones(k)\n",
    "#init_log_std_random = tf.random.normal([k], stddev=1.)\n",
    "init_var_param1 = np.concatenate([init_mean, init_log_std])\n",
    "n_iters = 6000\n",
    "\n",
    "klvi_var_param,  klvi_param_history, avg_mean, avg_sigmas, klvi_history, grad_norm_history,oplog = \\\n",
    "   rmsprop_workflow_optimize(n_iters, klvi_objective_and_grad, init_var_param1, K=2, learning_rate=.01, learning_rate_end=0.0001, stopping_rule=2, r_mean_threshold=1.1, r_sigma_threshold=1.4,  epsilon=0.2, plotting=True)"
   ]
  },
  {
   "cell_type": "markdown",
   "metadata": {},
   "source": [
    "Since the mean field approximation is not good for this problem, we observe the\n",
    "high autocorrelation in the plots above."
   ]
  },
  {
   "cell_type": "code",
   "execution_count": null,
   "metadata": {},
   "outputs": [],
   "source": [
    "print('HMC parameters:')\n",
    "print(true_mean)\n",
    "print(np.log(true_std))"
   ]
  },
  {
   "cell_type": "code",
   "execution_count": null,
   "metadata": {},
   "outputs": [],
   "source": [
    "print('variational parameters:')\n",
    "print(klvi_var_param)\n"
   ]
  },
  {
   "cell_type": "code",
   "execution_count": null,
   "metadata": {},
   "outputs": [],
   "source": [
    "plt.plot(klvi_history)\n",
    "plt.ylabel('NELBO')\n",
    "plt.xlabel('Iterations')"
   ]
  },
  {
   "cell_type": "markdown",
   "metadata": {},
   "source": [
    "####  Let us compare the RMSPROP and RMSPROP(IA) solutions in terms of moment-l2 distance and khat"
   ]
  },
  {
   "cell_type": "code",
   "execution_count": null,
   "metadata": {},
   "outputs": [],
   "source": [
    "ia_var_params=  np.concatenate((avg_mean[0], avg_sigmas[0]), axis=0)\n",
    "cov_iters_fr_rms = mf_t_var_family.mean_and_cov(klvi_var_param)[1]\n",
    "cov_iters_fr_rms_ia = mf_t_var_family.mean_and_cov(ia_var_params)[1]\n",
    "print('Difference between analytical mean and HMC mean:', np.sqrt(np.mean(np.square(klvi_var_param[:k].flatten() - true_mean.flatten()))))\n",
    "print('Difference between analytical cov and HMC cov:', np.sqrt(np.mean(np.square(np.diag(cov_iters_fr_rms).flatten() - true_var.flatten()))))\n",
    "\n",
    "print('Difference between analytical mean and HMC mean-IA:', np.sqrt(np.mean(np.square(ia_var_params[:k].flatten() - true_mean.flatten()))))\n",
    "print('Difference between analytical cov and HMC cov-IA:', np.sqrt(np.mean(np.square(np.diag(cov_iters_fr_rms_ia).flatten() - true_var.flatten()))))"
   ]
  },
  {
   "cell_type": "markdown",
   "metadata": {},
   "source": [
    "##### ADAM Optimizer "
   ]
  },
  {
   "cell_type": "code",
   "execution_count": null,
   "metadata": {},
   "outputs": [],
   "source": [
    "####\n",
    "klvi_var_param_adam,  klvi_param_history_adam, avg_mean_adam, avg_sigmas_adam, klvi_history_adam, grad_norm_history_adam,oplog_adam = \\\n",
    "   adam_workflow_optimize(n_iters, klvi_objective_and_grad, init_var_param, K=2, learning_rate=.01, learning_rate_end=0.0001, stopping_rule=2, window=200, r_mean_threshold=1.1, r_sigma_threshold=1.7,  epsilon=0.2, plotting=True)"
   ]
  },
  {
   "cell_type": "markdown",
   "metadata": {},
   "source": [
    "#### Windowed Adagrad  Optimizer "
   ]
  },
  {
   "cell_type": "markdown",
   "metadata": {},
   "source": [
    "Let us use the full rank Gaussian distribution as the approximation ..."
   ]
  },
  {
   "cell_type": "code",
   "execution_count": 15,
   "metadata": {},
   "outputs": [],
   "source": [
    "fr_g_var_family  = t_variational_family(2, 400000000)\n",
    "stan_log_density = make_stan_log_density(fit)\n",
    "klvi_objective_and_grad = black_box_klvi(fr_g_var_family, stan_log_density, 50)\n",
    "k=2\n",
    "init_var_param = np.zeros(fr_g_var_family.var_param_dim)\n",
    "\n",
    "init_mean    = np.zeros(k)\n",
    "#init_mean_random = np.random.normal([k], stddev=1.0)\n",
    "init_log_std = np.ones(k)\n",
    "#init_log_std_random = tf.random.normal([k], stddev=1.)\n",
    "init_var_param1 = np.concatenate([init_mean, init_log_std])\n",
    "n_iters = 6000"
   ]
  },
  {
   "cell_type": "code",
   "execution_count": 16,
   "metadata": {},
   "outputs": [
    {
     "name": "stdout",
     "output_type": "stream",
     "text": [
      "Rhat- All sigmas converged ...\n",
      "Rhat- All means converged ...\n",
      "Optimization stopping reliably!\n"
     ]
    },
    {
     "data": {
      "image/png": "[encoded data removed]",
      "text/plain": [
       "<Figure size 302.4x180 with 1 Axes>"
      ]
     },
     "metadata": {},
     "output_type": "display_data"
    },
    {
     "data": {
      "image/png": "[encoded data removed]",
      "text/plain": [
       "<Figure size 302.4x180 with 1 Axes>"
      ]
     },
     "metadata": {},
     "output_type": "display_data"
    }
   ],
   "source": [
    "klvi_var_param_avg_adagrad_fr,  klvi_param_history_adagrad_fr, klvi_history_adagrad_fr, grad_norm_history_adam_fr, oplog_adagrad_fr = \\\n",
    "   adagrad_workflow_optimize(8000, klvi_objective_and_grad, init_var_param, K=2, learning_rate=.015, learning_rate_end=0.001, stopping_rule=2, window=20, r_mean_threshold=1.1, r_sigma_threshold=1.4,  epsilon=0.2, plotting=True)"
   ]
  },
  {
   "cell_type": "code",
   "execution_count": null,
   "metadata": {},
   "outputs": [],
   "source": [
    "fn_density = fr_g_var_family\n",
    "n_samples= 800000"
   ]
  },
  {
   "cell_type": "code",
   "execution_count": null,
   "metadata": {},
   "outputs": [],
   "source": [
    "samples, smoothed_log_weights, khat = psis_correction(stan_log_density, fn_density,\n",
    "                                                              klvi_param_history_adagrad_fr[-1], n_samples)\n",
    "samples_ia, smoothed_log_weights_ia, khat_ia = psis_correction(stan_log_density, fn_density,\n",
    "                                                                       klvi_var_param_avg_adagrad_fr, n_samples)\n",
    "\n",
    "\n"
   ]
  },
  {
   "cell_type": "code",
   "execution_count": null,
   "metadata": {},
   "outputs": [],
   "source": [
    "print('khat:', khat)\n",
    "print('khat IA:', khat_ia)\n",
    "print(true_mean)\n",
    "print(klvi_param_history_adagrad_fr[-1][:k])\n",
    "\n",
    "cov_iters_fr_rms = fn_density.mean_and_cov(klvi_param_history_adagrad_fr[-1])[1]\n",
    "cov_iters_fr_rms_ia1 = fn_density.mean_and_cov(klvi_var_param_avg_adagrad_fr)[1]\n",
    "print('Difference between analytical mean and HMC mean:',\n",
    "              np.sqrt(np.mean(np.square(klvi_param_history_adagrad_fr[-1][:k].flatten() - true_mean.flatten()))))\n",
    "print('Difference between analytical cov and HMC cov:',\n",
    "              np.sqrt(np.mean(np.square(cov_iters_fr_rms.flatten() - true_cov.flatten()))))\n",
    "\n",
    "print('Difference between analytical mean and HMC mean-IA:',\n",
    "              np.sqrt(np.mean(np.square(klvi_var_param_avg_adagrad_fr[:k].flatten() - true_mean.flatten()))))\n",
    "print('Difference between analytical cov and HMC cov-IA:',\n",
    "              np.sqrt(np.mean(np.square(cov_iters_fr_rms_ia1.flatten() - true_cov.flatten()))))"
   ]
  },
  {
   "cell_type": "code",
   "execution_count": null,
   "metadata": {},
   "outputs": [],
   "source": []
  }
 ],
 "metadata": {
  "kernelspec": {
   "display_name": "Python (viabel_env)",
   "language": "python",
   "name": "viabel_env"
  },
  "language_info": {
   "codemirror_mode": {
    "name": "ipython",
    "version": 3
   },
   "file_extension": ".py",
   "mimetype": "text/x-python",
   "name": "python",
   "nbconvert_exporter": "python",
   "pygments_lexer": "ipython3",
   "version": "3.6.10"
  }
 },
 "nbformat": 4,
 "nbformat_minor": 2
}
