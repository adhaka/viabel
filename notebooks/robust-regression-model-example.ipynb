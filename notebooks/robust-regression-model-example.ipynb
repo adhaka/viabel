{
 "cells": [
  {
   "cell_type": "code",
   "execution_count": 1,
   "metadata": {},
   "outputs": [],
   "source": [
    "import sys, os\n",
    "sys.path.append('..')\n",
    "sys.path.append('../..')"
   ]
  },
  {
   "cell_type": "code",
   "execution_count": 2,
   "metadata": {},
   "outputs": [],
   "source": [
    "import autograd"
   ]
  },
  {
   "cell_type": "code",
   "execution_count": 3,
   "metadata": {},
   "outputs": [],
   "source": [
    "import pickle"
   ]
  },
  {
   "cell_type": "code",
   "execution_count": 4,
   "metadata": {},
   "outputs": [],
   "source": [
    "import pystan"
   ]
  },
  {
   "cell_type": "code",
   "execution_count": 5,
   "metadata": {},
   "outputs": [],
   "source": [
    "import matplotlib.pyplot as plt\n",
    "import seaborn as sns\n",
    "import autograd.numpy as np\n",
    "#import pystan\n",
    "from viabel import all_bounds\n",
    "from viabel.vb import (mean_field_gaussian_variational_family,\n",
    "                       mean_field_t_variational_family,\n",
    "                       full_rank_gaussian_variational_family,\n",
    "                       t_variational_family,\n",
    "                       black_box_klvi,\n",
    "                       black_box_klvi_pd,\n",
    "                       black_box_klvi_pd2,\n",
    "                       black_box_chivi,\n",
    "                       make_stan_log_density,\n",
    "                       adagrad_optimize\n",
    "                      )\n",
    "from experiments import (get_samples_and_log_weights, \n",
    "                         plot_history, \n",
    "                         plot_approx_and_exact_contours, \n",
    "                         check_approx_accuracy,\n",
    "                         print_bounds)\n",
    "\n",
    "from data_generator import (data_generator_linear)\n",
    "\n",
    "sns.set_style('white')\n",
    "sns.set_context('notebook', font_scale=2, rc={'lines.linewidth': 2})"
   ]
  },
  {
   "cell_type": "code",
   "execution_count": 6,
   "metadata": {},
   "outputs": [],
   "source": [
    "from viabel.vb import  rmsprop_IA_optimize_with_rhat, adam_IA_optimize_with_rhat"
   ]
  },
  {
   "cell_type": "markdown",
   "metadata": {},
   "source": [
    "# Linear regression model example\n",
    "\n",
    "We will approximate the posterior for the simple 2D robust linear regression model\n",
    "$$\\beta_i \\sim \\mathcal{N}(0, 10)$$\n",
    "$$y_n | x_n, \\beta, \\sigma \\sim \\mathcal{T}_{10}(\\beta^\\top x_n, 1).$$\n",
    "\n",
    "We will use Stan to take care of compute log probabilities and gradients for us. "
   ]
  },
  {
   "cell_type": "code",
   "execution_count": 7,
   "metadata": {},
   "outputs": [],
   "source": [
    "regression_model_code = \"\"\"data {\n",
    "  int<lower=0> N;   // number of observations\n",
    "  int<lower=0> D;   // number of observations\n",
    "  matrix[N, D] x;   // predictor matrix\n",
    "  vector[N] y;      // outcome vector\n",
    "}\n",
    "parameters {\n",
    "  vector[D] beta;       // coefficients for predictors\n",
    "}\n",
    "\n",
    "model {\n",
    "  beta ~ normal(0, 10);\n",
    "  #y ~ student_t(10, x * beta, 1);  // likelihood\n",
    "  y ~ normal( x * beta, 0.5);  // likelihood\n",
    "}\"\"\""
   ]
  },
  {
   "cell_type": "code",
   "execution_count": 8,
   "metadata": {},
   "outputs": [],
   "source": [
    "\n",
    "try:\n",
    "    sm = pickle.load(open('robust_reg_model_1.pkl', 'rb'))\n",
    "except:\n",
    "    sm = pystan.StanModel(model_code=regression_model_code, model_name='regression_model')\n",
    "    with open('robust_reg_model_1.pkl', 'wb') as f:\n",
    "        pickle.dump(sm, f)\n"
   ]
  },
  {
   "cell_type": "markdown",
   "metadata": {},
   "source": [
    "We generate 25 observations from the model with $\\beta = (-2, 1)$."
   ]
  },
  {
   "cell_type": "code",
   "execution_count": 9,
   "metadata": {},
   "outputs": [],
   "source": [
    "SEED=5040\n",
    "np.random.seed(SEED)\n",
    "beta_gen = np.array([-2, 1])\n",
    "N = 100\n",
    "k=10\n",
    "x = np.random.randn(N, 2).dot(np.array([[1,.85],[.85, 1]]))\n",
    "y_raw = x.dot(beta_gen) + np.random.standard_t(10, N)\n",
    "y = y_raw - np.mean(y_raw)"
   ]
  },
  {
   "cell_type": "code",
   "execution_count": 10,
   "metadata": {},
   "outputs": [],
   "source": [
    "N=150\n",
    "k=10\n",
    "SEED= 5080\n",
    "alpha=1.\n",
    "noise_sigma = 0.4\n",
    "noise_var = noise_sigma**2\n",
    "rho = 0.5\n",
    "regression_data = data_generator_linear(N, k, alpha=alpha,\n",
    "                                                     noise_variance=noise_var,\n",
    "                                                     rho=rho, seed=SEED)\n",
    "X = regression_data['X']\n",
    "Y = regression_data['Y']\n",
    "Y=Y[:,0]\n",
    "W = regression_data['W']"
   ]
  },
  {
   "cell_type": "markdown",
   "metadata": {},
   "source": [
    "First, we generate ground truth samples using Stan's dynamic HMC implementation"
   ]
  },
  {
   "cell_type": "code",
   "execution_count": 11,
   "metadata": {},
   "outputs": [],
   "source": [
    "data = dict(N=N, x=X, y=Y, D=k)\n",
    "fit = sm.sampling(data=data)"
   ]
  },
  {
   "cell_type": "code",
   "execution_count": 12,
   "metadata": {},
   "outputs": [],
   "source": [
    "true_mean = np.mean(fit['beta'], axis=0)\n",
    "true_cov = np.cov(fit['beta'].T)"
   ]
  },
  {
   "cell_type": "code",
   "execution_count": 13,
   "metadata": {},
   "outputs": [],
   "source": [
    "true_std = np.sqrt(np.diag(true_cov))"
   ]
  },
  {
   "cell_type": "code",
   "execution_count": 14,
   "metadata": {},
   "outputs": [
    {
     "name": "stdout",
     "output_type": "stream",
     "text": [
      "[ 1.35987421 -0.28549679  1.05990959 -0.37459264 -0.98398725 -1.27624734\n",
      " -0.65435396 -0.28566331  2.06654405  0.59784721]\n"
     ]
    }
   ],
   "source": [
    "print(true_mean)"
   ]
  },
  {
   "cell_type": "code",
   "execution_count": 15,
   "metadata": {},
   "outputs": [
    {
     "data": {
      "image/png": "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\n",
      "text/plain": [
       "<Figure size 432x432 with 3 Axes>"
      ]
     },
     "metadata": {},
     "output_type": "display_data"
    }
   ],
   "source": [
    "jp = sns.jointplot(x=fit['beta[1]'], y=fit['beta[2]'], kind='kde')\n",
    "jp.set_axis_labels(r'$\\beta_1$', r'$\\beta_2$')\n",
    "plt.show()"
   ]
  },
  {
   "cell_type": "markdown",
   "metadata": {},
   "source": [
    "## Standard mean-field variational inference\n",
    "\n",
    "Next, we compute a mean field variational approximation using standard variational inference (that is, minimizing the KL-divergence)"
   ]
  },
  {
   "cell_type": "code",
   "execution_count": 16,
   "metadata": {},
   "outputs": [],
   "source": [
    "mf_g_var_family = mean_field_gaussian_variational_family(k)\n",
    "fr_g_var_family = full_rank_gaussian_variational_family(k)"
   ]
  },
  {
   "cell_type": "code",
   "execution_count": 17,
   "metadata": {},
   "outputs": [],
   "source": [
    "mf_g_var_family = mean_field_gaussian_variational_family(k)\n",
    "stan_log_density = make_stan_log_density(fit)\n",
    "klvi_objective_and_grad = black_box_klvi(mf_g_var_family, stan_log_density, 100)\n",
    "klvi_fr_objective_and_grad = black_box_klvi(fr_g_var_family, stan_log_density, 100)\n",
    "init_mean    = np.zeros(k)\n",
    "init_log_std = np.ones(k)\n",
    "init_var_param = np.concatenate([init_mean, init_log_std])\n",
    "n_iters = 5000\n",
    "\n"
   ]
  },
  {
   "cell_type": "code",
   "execution_count": 18,
   "metadata": {},
   "outputs": [],
   "source": [
    "mf_g_var_family = mean_field_gaussian_variational_family(k)\n",
    "stan_log_density = make_stan_log_density(fit)\n",
    "klvi_objective_and_grad_pd = black_box_klvi_pd2(mf_g_var_family, stan_log_density, 100)\n",
    "klvi_fr_objective_and_grad_pd = black_box_klvi(fr_g_var_family, stan_log_density, 100)\n",
    "\n",
    "init_mean    = np.zeros(k)\n",
    "#init_mean_random = np.random.normal([k], stddev=1.0)\n",
    "init_log_std = np.ones(k)\n",
    "#init_log_std_random = tf.random.normal([k], stddev=1.)\n",
    "init_var_param = np.concatenate([init_mean, init_log_std])\n",
    "init_fr_var_param = np.concatenate([init_mean, np.ones(int(k*(k+1)/2))])\n",
    "n_iters = 5000"
   ]
  },
  {
   "cell_type": "code",
<<<<<<< Updated upstream
<<<<<<< Updated upstream
   "execution_count": 22,
=======
   "execution_count": 21,
>>>>>>> Stashed changes
=======
   "execution_count": 21,
>>>>>>> Stashed changes
   "metadata": {},
   "outputs": [
    {
     "name": "stderr",
     "output_type": "stream",
     "text": [
<<<<<<< Updated upstream
<<<<<<< Updated upstream
      "  0%|          | 0/5000 [00:00<?, ?it/s]\n"
=======
      "  0%|          | 0/5000 [00:00<?, ?it/s]"
>>>>>>> Stashed changes
=======
      "  0%|          | 0/5000 [00:00<?, ?it/s]"
>>>>>>> Stashed changes
     ]
    },
    {
     "name": "stdout",
     "output_type": "stream",
     "text": [
      "(55,)\n",
      "0\n",
      "1\n",
      "2\n",
      "3\n",
      "4\n",
      "5\n",
      "6\n",
      "7\n",
      "8\n",
      "9\n",
      "10\n",
      "11\n",
      "12\n",
      "13\n",
      "14\n",
      "15\n",
      "16\n",
      "17\n",
      "18\n",
      "19\n",
      "20\n",
      "21\n",
      "22\n",
      "23\n",
      "24\n",
      "25\n",
      "26\n",
      "27\n",
      "28\n",
      "29\n",
      "30\n",
      "31\n",
      "32\n",
      "33\n",
      "34\n",
      "35\n",
      "36\n",
      "37\n",
      "38\n",
      "39\n",
      "40\n",
      "41\n",
      "42\n",
      "43\n",
      "44\n",
      "45\n",
      "46\n",
      "47\n",
      "48\n",
      "49\n",
      "50\n",
      "51\n",
      "52\n",
      "53\n",
      "54\n"
<<<<<<< Updated upstream
<<<<<<< Updated upstream
     ]
    },
    {
     "ename": "NotImplementedError",
     "evalue": "VJP of flat_to_triang wrt argnums (0,) not defined",
     "output_type": "error",
     "traceback": [
      "\u001b[0;31m---------------------------------------------------------------------------\u001b[0m",
      "\u001b[0;31mKeyError\u001b[0m                                  Traceback (most recent call last)",
      "\u001b[0;32m/anaconda3/envs/viabel_env/lib/python3.6/site-packages/autograd/core.py\u001b[0m in \u001b[0;36m__init__\u001b[0;34m(self, value, fun, args, kwargs, parent_argnums, parents)\u001b[0m\n\u001b[1;32m     30\u001b[0m         \u001b[0;32mtry\u001b[0m\u001b[0;34m:\u001b[0m\u001b[0;34m\u001b[0m\u001b[0;34m\u001b[0m\u001b[0m\n\u001b[0;32m---> 31\u001b[0;31m             \u001b[0mvjpmaker\u001b[0m \u001b[0;34m=\u001b[0m \u001b[0mprimitive_vjps\u001b[0m\u001b[0;34m[\u001b[0m\u001b[0mfun\u001b[0m\u001b[0;34m]\u001b[0m\u001b[0;34m\u001b[0m\u001b[0;34m\u001b[0m\u001b[0m\n\u001b[0m\u001b[1;32m     32\u001b[0m         \u001b[0;32mexcept\u001b[0m \u001b[0mKeyError\u001b[0m\u001b[0;34m:\u001b[0m\u001b[0;34m\u001b[0m\u001b[0;34m\u001b[0m\u001b[0m\n",
      "\u001b[0;31mKeyError\u001b[0m: <function primitive.<locals>.f_wrapped at 0x11d3e4d08>",
      "\nDuring handling of the above exception, another exception occurred:\n",
      "\u001b[0;31mNotImplementedError\u001b[0m                       Traceback (most recent call last)",
      "\u001b[0;32m<ipython-input-22-345e8a41b33a>\u001b[0m in \u001b[0;36m<module>\u001b[0;34m\u001b[0m\n\u001b[1;32m      1\u001b[0m \u001b[0mklvi_fr_var_param_pd\u001b[0m\u001b[0;34m,\u001b[0m \u001b[0mavg_fr_klvi_var_param_list_pd\u001b[0m\u001b[0;34m,\u001b[0m\u001b[0m_\u001b[0m\u001b[0;34m,\u001b[0m \u001b[0mfr_klvi_history_pd\u001b[0m\u001b[0;34m,\u001b[0m \u001b[0m_\u001b[0m\u001b[0;34m,\u001b[0m \u001b[0mop_log\u001b[0m \u001b[0;34m=\u001b[0m\u001b[0;31m \u001b[0m\u001b[0;31m\\\u001b[0m\u001b[0;34m\u001b[0m\u001b[0;34m\u001b[0m\u001b[0m\n\u001b[0;32m----> 2\u001b[0;31m     \u001b[0mrmsprop_IA_optimize_with_rhat\u001b[0m\u001b[0;34m(\u001b[0m\u001b[0mn_iters\u001b[0m\u001b[0;34m,\u001b[0m \u001b[0mklvi_fr_objective_and_grad\u001b[0m\u001b[0;34m,\u001b[0m \u001b[0minit_fr_var_param\u001b[0m\u001b[0;34m,\u001b[0m \u001b[0mk\u001b[0m\u001b[0;34m,\u001b[0m \u001b[0mlearning_rate\u001b[0m\u001b[0;34m=\u001b[0m\u001b[0;36m.01\u001b[0m\u001b[0;34m,\u001b[0m\u001b[0mn_optimisers\u001b[0m\u001b[0;34m=\u001b[0m\u001b[0;36m1\u001b[0m\u001b[0;34m)\u001b[0m\u001b[0;34m\u001b[0m\u001b[0;34m\u001b[0m\u001b[0m\n\u001b[0m",
      "\u001b[0;32m~/Desktop/research_repos/viabel/viabel/viabel/vb.py\u001b[0m in \u001b[0;36mrmsprop_IA_optimize_with_rhat\u001b[0;34m(n_iters, objective_and_grad, init_param, K, has_log_norm, window, learning_rate, epsilon, rhat_window, averaging, n_optimisers, r_mean_threshold, r_sigma_threshold, learning_rate_end)\u001b[0m\n\u001b[1;32m    374\u001b[0m     \u001b[0mvariational_param_history\u001b[0m \u001b[0;34m=\u001b[0m \u001b[0mnp\u001b[0m\u001b[0;34m.\u001b[0m\u001b[0marray\u001b[0m\u001b[0;34m(\u001b[0m\u001b[0mvariational_param_history\u001b[0m\u001b[0;34m)\u001b[0m\u001b[0;34m\u001b[0m\u001b[0;34m\u001b[0m\u001b[0m\n\u001b[1;32m    375\u001b[0m     \u001b[0msmoothed_opt_param\u001b[0m \u001b[0;34m=\u001b[0m \u001b[0mnp\u001b[0m\u001b[0;34m.\u001b[0m\u001b[0mmean\u001b[0m\u001b[0;34m(\u001b[0m\u001b[0mvariational_param_history\u001b[0m\u001b[0;34m,\u001b[0m \u001b[0maxis\u001b[0m\u001b[0;34m=\u001b[0m\u001b[0;36m0\u001b[0m\u001b[0;34m)\u001b[0m\u001b[0;34m\u001b[0m\u001b[0;34m\u001b[0m\u001b[0m\n\u001b[0;32m--> 376\u001b[0;31m     return (smoothed_opt_param, variational_param_history,\n\u001b[0m\u001b[1;32m    377\u001b[0m             np.array(value_history), np.array(log_norm_history))\n\u001b[1;32m    378\u001b[0m \u001b[0;34m\u001b[0m\u001b[0m\n",
      "\u001b[0;32m/anaconda3/envs/viabel_env/lib/python3.6/site-packages/autograd/wrap_util.py\u001b[0m in \u001b[0;36mnary_f\u001b[0;34m(*args, **kwargs)\u001b[0m\n\u001b[1;32m     18\u001b[0m             \u001b[0;32melse\u001b[0m\u001b[0;34m:\u001b[0m\u001b[0;34m\u001b[0m\u001b[0;34m\u001b[0m\u001b[0m\n\u001b[1;32m     19\u001b[0m                 \u001b[0mx\u001b[0m \u001b[0;34m=\u001b[0m \u001b[0mtuple\u001b[0m\u001b[0;34m(\u001b[0m\u001b[0margs\u001b[0m\u001b[0;34m[\u001b[0m\u001b[0mi\u001b[0m\u001b[0;34m]\u001b[0m \u001b[0;32mfor\u001b[0m \u001b[0mi\u001b[0m \u001b[0;32min\u001b[0m \u001b[0margnum\u001b[0m\u001b[0;34m)\u001b[0m\u001b[0;34m\u001b[0m\u001b[0;34m\u001b[0m\u001b[0m\n\u001b[0;32m---> 20\u001b[0;31m             \u001b[0;32mreturn\u001b[0m \u001b[0munary_operator\u001b[0m\u001b[0;34m(\u001b[0m\u001b[0munary_f\u001b[0m\u001b[0;34m,\u001b[0m \u001b[0mx\u001b[0m\u001b[0;34m,\u001b[0m \u001b[0;34m*\u001b[0m\u001b[0mnary_op_args\u001b[0m\u001b[0;34m,\u001b[0m \u001b[0;34m**\u001b[0m\u001b[0mnary_op_kwargs\u001b[0m\u001b[0;34m)\u001b[0m\u001b[0;34m\u001b[0m\u001b[0;34m\u001b[0m\u001b[0m\n\u001b[0m\u001b[1;32m     21\u001b[0m         \u001b[0;32mreturn\u001b[0m \u001b[0mnary_f\u001b[0m\u001b[0;34m\u001b[0m\u001b[0;34m\u001b[0m\u001b[0m\n\u001b[1;32m     22\u001b[0m     \u001b[0;32mreturn\u001b[0m \u001b[0mnary_operator\u001b[0m\u001b[0;34m\u001b[0m\u001b[0;34m\u001b[0m\u001b[0m\n",
      "\u001b[0;32m/anaconda3/envs/viabel_env/lib/python3.6/site-packages/autograd/differential_operators.py\u001b[0m in \u001b[0;36mvalue_and_grad\u001b[0;34m(fun, x)\u001b[0m\n\u001b[1;32m    133\u001b[0m     \"\"\"Returns a function that returns both value and gradient. Suitable for use\n\u001b[1;32m    134\u001b[0m     in scipy.optimize\"\"\"\n\u001b[0;32m--> 135\u001b[0;31m     \u001b[0mvjp\u001b[0m\u001b[0;34m,\u001b[0m \u001b[0mans\u001b[0m \u001b[0;34m=\u001b[0m \u001b[0m_make_vjp\u001b[0m\u001b[0;34m(\u001b[0m\u001b[0mfun\u001b[0m\u001b[0;34m,\u001b[0m \u001b[0mx\u001b[0m\u001b[0;34m)\u001b[0m\u001b[0;34m\u001b[0m\u001b[0;34m\u001b[0m\u001b[0m\n\u001b[0m\u001b[1;32m    136\u001b[0m     \u001b[0;32mif\u001b[0m \u001b[0;32mnot\u001b[0m \u001b[0mvspace\u001b[0m\u001b[0;34m(\u001b[0m\u001b[0mans\u001b[0m\u001b[0;34m)\u001b[0m\u001b[0;34m.\u001b[0m\u001b[0msize\u001b[0m \u001b[0;34m==\u001b[0m \u001b[0;36m1\u001b[0m\u001b[0;34m:\u001b[0m\u001b[0;34m\u001b[0m\u001b[0;34m\u001b[0m\u001b[0m\n\u001b[1;32m    137\u001b[0m         raise TypeError(\"value_and_grad only applies to real scalar-output \"\n",
      "\u001b[0;32m/anaconda3/envs/viabel_env/lib/python3.6/site-packages/autograd/core.py\u001b[0m in \u001b[0;36mmake_vjp\u001b[0;34m(fun, x)\u001b[0m\n\u001b[1;32m      8\u001b[0m \u001b[0;32mdef\u001b[0m \u001b[0mmake_vjp\u001b[0m\u001b[0;34m(\u001b[0m\u001b[0mfun\u001b[0m\u001b[0;34m,\u001b[0m \u001b[0mx\u001b[0m\u001b[0;34m)\u001b[0m\u001b[0;34m:\u001b[0m\u001b[0;34m\u001b[0m\u001b[0;34m\u001b[0m\u001b[0m\n\u001b[1;32m      9\u001b[0m     \u001b[0mstart_node\u001b[0m \u001b[0;34m=\u001b[0m \u001b[0mVJPNode\u001b[0m\u001b[0;34m.\u001b[0m\u001b[0mnew_root\u001b[0m\u001b[0;34m(\u001b[0m\u001b[0;34m)\u001b[0m\u001b[0;34m\u001b[0m\u001b[0;34m\u001b[0m\u001b[0m\n\u001b[0;32m---> 10\u001b[0;31m     \u001b[0mend_value\u001b[0m\u001b[0;34m,\u001b[0m \u001b[0mend_node\u001b[0m \u001b[0;34m=\u001b[0m  \u001b[0mtrace\u001b[0m\u001b[0;34m(\u001b[0m\u001b[0mstart_node\u001b[0m\u001b[0;34m,\u001b[0m \u001b[0mfun\u001b[0m\u001b[0;34m,\u001b[0m \u001b[0mx\u001b[0m\u001b[0;34m)\u001b[0m\u001b[0;34m\u001b[0m\u001b[0;34m\u001b[0m\u001b[0m\n\u001b[0m\u001b[1;32m     11\u001b[0m     \u001b[0;32mif\u001b[0m \u001b[0mend_node\u001b[0m \u001b[0;32mis\u001b[0m \u001b[0;32mNone\u001b[0m\u001b[0;34m:\u001b[0m\u001b[0;34m\u001b[0m\u001b[0;34m\u001b[0m\u001b[0m\n\u001b[1;32m     12\u001b[0m         \u001b[0;32mdef\u001b[0m \u001b[0mvjp\u001b[0m\u001b[0;34m(\u001b[0m\u001b[0mg\u001b[0m\u001b[0;34m)\u001b[0m\u001b[0;34m:\u001b[0m \u001b[0;32mreturn\u001b[0m \u001b[0mvspace\u001b[0m\u001b[0;34m(\u001b[0m\u001b[0mx\u001b[0m\u001b[0;34m)\u001b[0m\u001b[0;34m.\u001b[0m\u001b[0mzeros\u001b[0m\u001b[0;34m(\u001b[0m\u001b[0;34m)\u001b[0m\u001b[0;34m\u001b[0m\u001b[0;34m\u001b[0m\u001b[0m\n",
      "\u001b[0;32m/anaconda3/envs/viabel_env/lib/python3.6/site-packages/autograd/tracer.py\u001b[0m in \u001b[0;36mtrace\u001b[0;34m(start_node, fun, x)\u001b[0m\n\u001b[1;32m      8\u001b[0m     \u001b[0;32mwith\u001b[0m \u001b[0mtrace_stack\u001b[0m\u001b[0;34m.\u001b[0m\u001b[0mnew_trace\u001b[0m\u001b[0;34m(\u001b[0m\u001b[0;34m)\u001b[0m \u001b[0;32mas\u001b[0m \u001b[0mt\u001b[0m\u001b[0;34m:\u001b[0m\u001b[0;34m\u001b[0m\u001b[0;34m\u001b[0m\u001b[0m\n\u001b[1;32m      9\u001b[0m         \u001b[0mstart_box\u001b[0m \u001b[0;34m=\u001b[0m \u001b[0mnew_box\u001b[0m\u001b[0;34m(\u001b[0m\u001b[0mx\u001b[0m\u001b[0;34m,\u001b[0m \u001b[0mt\u001b[0m\u001b[0;34m,\u001b[0m \u001b[0mstart_node\u001b[0m\u001b[0;34m)\u001b[0m\u001b[0;34m\u001b[0m\u001b[0;34m\u001b[0m\u001b[0m\n\u001b[0;32m---> 10\u001b[0;31m         \u001b[0mend_box\u001b[0m \u001b[0;34m=\u001b[0m \u001b[0mfun\u001b[0m\u001b[0;34m(\u001b[0m\u001b[0mstart_box\u001b[0m\u001b[0;34m)\u001b[0m\u001b[0;34m\u001b[0m\u001b[0;34m\u001b[0m\u001b[0m\n\u001b[0m\u001b[1;32m     11\u001b[0m         \u001b[0;32mif\u001b[0m \u001b[0misbox\u001b[0m\u001b[0;34m(\u001b[0m\u001b[0mend_box\u001b[0m\u001b[0;34m)\u001b[0m \u001b[0;32mand\u001b[0m \u001b[0mend_box\u001b[0m\u001b[0;34m.\u001b[0m\u001b[0m_trace\u001b[0m \u001b[0;34m==\u001b[0m \u001b[0mstart_box\u001b[0m\u001b[0;34m.\u001b[0m\u001b[0m_trace\u001b[0m\u001b[0;34m:\u001b[0m\u001b[0;34m\u001b[0m\u001b[0;34m\u001b[0m\u001b[0m\n\u001b[1;32m     12\u001b[0m             \u001b[0;32mreturn\u001b[0m \u001b[0mend_box\u001b[0m\u001b[0;34m.\u001b[0m\u001b[0m_value\u001b[0m\u001b[0;34m,\u001b[0m \u001b[0mend_box\u001b[0m\u001b[0;34m.\u001b[0m\u001b[0m_node\u001b[0m\u001b[0;34m\u001b[0m\u001b[0;34m\u001b[0m\u001b[0m\n",
      "\u001b[0;32m/anaconda3/envs/viabel_env/lib/python3.6/site-packages/autograd/wrap_util.py\u001b[0m in \u001b[0;36munary_f\u001b[0;34m(x)\u001b[0m\n\u001b[1;32m     13\u001b[0m                 \u001b[0;32melse\u001b[0m\u001b[0;34m:\u001b[0m\u001b[0;34m\u001b[0m\u001b[0;34m\u001b[0m\u001b[0m\n\u001b[1;32m     14\u001b[0m                     \u001b[0msubargs\u001b[0m \u001b[0;34m=\u001b[0m \u001b[0msubvals\u001b[0m\u001b[0;34m(\u001b[0m\u001b[0margs\u001b[0m\u001b[0;34m,\u001b[0m \u001b[0mzip\u001b[0m\u001b[0;34m(\u001b[0m\u001b[0margnum\u001b[0m\u001b[0;34m,\u001b[0m \u001b[0mx\u001b[0m\u001b[0;34m)\u001b[0m\u001b[0;34m)\u001b[0m\u001b[0;34m\u001b[0m\u001b[0;34m\u001b[0m\u001b[0m\n\u001b[0;32m---> 15\u001b[0;31m                 \u001b[0;32mreturn\u001b[0m \u001b[0mfun\u001b[0m\u001b[0;34m(\u001b[0m\u001b[0;34m*\u001b[0m\u001b[0msubargs\u001b[0m\u001b[0;34m,\u001b[0m \u001b[0;34m**\u001b[0m\u001b[0mkwargs\u001b[0m\u001b[0;34m)\u001b[0m\u001b[0;34m\u001b[0m\u001b[0;34m\u001b[0m\u001b[0m\n\u001b[0m\u001b[1;32m     16\u001b[0m             \u001b[0;32mif\u001b[0m \u001b[0misinstance\u001b[0m\u001b[0;34m(\u001b[0m\u001b[0margnum\u001b[0m\u001b[0;34m,\u001b[0m \u001b[0mint\u001b[0m\u001b[0;34m)\u001b[0m\u001b[0;34m:\u001b[0m\u001b[0;34m\u001b[0m\u001b[0;34m\u001b[0m\u001b[0m\n\u001b[1;32m     17\u001b[0m                 \u001b[0mx\u001b[0m \u001b[0;34m=\u001b[0m \u001b[0margs\u001b[0m\u001b[0;34m[\u001b[0m\u001b[0margnum\u001b[0m\u001b[0;34m]\u001b[0m\u001b[0;34m\u001b[0m\u001b[0;34m\u001b[0m\u001b[0m\n",
      "\u001b[0;32m~/Desktop/research_repos/viabel/viabel/viabel/vb.py\u001b[0m in \u001b[0;36mvariational_objective\u001b[0;34m(var_param)\u001b[0m\n\u001b[1;32m    189\u001b[0m \u001b[0;34m\u001b[0m\u001b[0m\n\u001b[1;32m    190\u001b[0m     \u001b[0;32mdef\u001b[0m \u001b[0msample\u001b[0m\u001b[0;34m(\u001b[0m\u001b[0mvar_param\u001b[0m\u001b[0;34m,\u001b[0m \u001b[0mn_samples\u001b[0m\u001b[0;34m,\u001b[0m \u001b[0mseed\u001b[0m\u001b[0;34m=\u001b[0m\u001b[0;32mNone\u001b[0m\u001b[0;34m)\u001b[0m\u001b[0;34m:\u001b[0m\u001b[0;34m\u001b[0m\u001b[0;34m\u001b[0m\u001b[0m\n\u001b[0;32m--> 191\u001b[0;31m         \u001b[0mmy_rs\u001b[0m \u001b[0;34m=\u001b[0m \u001b[0mrs\u001b[0m \u001b[0;32mif\u001b[0m \u001b[0mseed\u001b[0m \u001b[0;32mis\u001b[0m \u001b[0;32mNone\u001b[0m \u001b[0;32melse\u001b[0m \u001b[0mnpr\u001b[0m\u001b[0;34m.\u001b[0m\u001b[0mRandomState\u001b[0m\u001b[0;34m(\u001b[0m\u001b[0mseed\u001b[0m\u001b[0;34m)\u001b[0m\u001b[0;34m\u001b[0m\u001b[0;34m\u001b[0m\u001b[0m\n\u001b[0m\u001b[1;32m    192\u001b[0m         \u001b[0ms\u001b[0m \u001b[0;34m=\u001b[0m \u001b[0mnp\u001b[0m\u001b[0;34m.\u001b[0m\u001b[0msqrt\u001b[0m\u001b[0;34m(\u001b[0m\u001b[0mmy_rs\u001b[0m\u001b[0;34m.\u001b[0m\u001b[0mchisquare\u001b[0m\u001b[0;34m(\u001b[0m\u001b[0mdf\u001b[0m\u001b[0;34m,\u001b[0m \u001b[0mn_samples\u001b[0m\u001b[0;34m)\u001b[0m \u001b[0;34m/\u001b[0m \u001b[0mdf\u001b[0m\u001b[0;34m)\u001b[0m\u001b[0;34m\u001b[0m\u001b[0;34m\u001b[0m\u001b[0m\n\u001b[1;32m    193\u001b[0m         \u001b[0mparam_dict\u001b[0m \u001b[0;34m=\u001b[0m \u001b[0mms_pattern\u001b[0m\u001b[0;34m.\u001b[0m\u001b[0mfold\u001b[0m\u001b[0;34m(\u001b[0m\u001b[0mvar_param\u001b[0m\u001b[0;34m)\u001b[0m\u001b[0;34m\u001b[0m\u001b[0;34m\u001b[0m\u001b[0m\n",
      "\u001b[0;32m~/Desktop/research_repos/viabel/viabel/viabel/vb.py\u001b[0m in \u001b[0;36msample\u001b[0;34m(var_param, n_samples, seed)\u001b[0m\n\u001b[1;32m     92\u001b[0m         \u001b[0;32mreturn\u001b[0m \u001b[0mL\u001b[0m\u001b[0;34m\u001b[0m\u001b[0;34m\u001b[0m\u001b[0m\n\u001b[1;32m     93\u001b[0m \u001b[0;34m\u001b[0m\u001b[0m\n\u001b[0;32m---> 94\u001b[0;31m     \u001b[0;32mdef\u001b[0m \u001b[0mL_to_beta\u001b[0m\u001b[0;34m(\u001b[0m\u001b[0mL\u001b[0m\u001b[0;34m)\u001b[0m\u001b[0;34m:\u001b[0m\u001b[0;34m\u001b[0m\u001b[0;34m\u001b[0m\u001b[0m\n\u001b[0m\u001b[1;32m     95\u001b[0m         \u001b[0;32mreturn\u001b[0m \u001b[0mtriang_to_flat\u001b[0m\u001b[0;34m(\u001b[0m\u001b[0mL\u001b[0m\u001b[0;34m)\u001b[0m\u001b[0;34m\u001b[0m\u001b[0;34m\u001b[0m\u001b[0m\n\u001b[1;32m     96\u001b[0m \u001b[0;34m\u001b[0m\u001b[0m\n",
      "\u001b[0;32m~/Desktop/research_repos/viabel/viabel/viabel/vb.py\u001b[0m in \u001b[0;36mbeta_to_L\u001b[0;34m(beta)\u001b[0m\n\u001b[1;32m     78\u001b[0m         \u001b[0;32melse\u001b[0m\u001b[0;34m:\u001b[0m  \u001b[0;31m# p == 4\u001b[0m\u001b[0;34m\u001b[0m\u001b[0;34m\u001b[0m\u001b[0m\n\u001b[1;32m     79\u001b[0m             \u001b[0;32mreturn\u001b[0m \u001b[0;36m2\u001b[0m\u001b[0;34m*\u001b[0m\u001b[0mnp\u001b[0m\u001b[0;34m.\u001b[0m\u001b[0msum\u001b[0m\u001b[0;34m(\u001b[0m\u001b[0mvars\u001b[0m\u001b[0;34m**\u001b[0m\u001b[0;36m2\u001b[0m\u001b[0;34m)\u001b[0m \u001b[0;34m+\u001b[0m \u001b[0mnp\u001b[0m\u001b[0;34m.\u001b[0m\u001b[0msum\u001b[0m\u001b[0;34m(\u001b[0m\u001b[0mvars\u001b[0m\u001b[0;34m)\u001b[0m\u001b[0;34m**\u001b[0m\u001b[0;36m2\u001b[0m\u001b[0;34m\u001b[0m\u001b[0;34m\u001b[0m\u001b[0m\n\u001b[0;32m---> 80\u001b[0;31m \u001b[0;34m\u001b[0m\u001b[0m\n\u001b[0m\u001b[1;32m     81\u001b[0m     return VariationalFamily(sample, entropy, logdensity,\n\u001b[1;32m     82\u001b[0m                              mean_and_cov, pth_moment, 2*dim)\n",
      "\u001b[0;32m/anaconda3/envs/viabel_env/lib/python3.6/site-packages/autograd/tracer.py\u001b[0m in \u001b[0;36mf_wrapped\u001b[0;34m(*args, **kwargs)\u001b[0m\n\u001b[1;32m     43\u001b[0m             \u001b[0margnums\u001b[0m \u001b[0;34m=\u001b[0m \u001b[0mtuple\u001b[0m\u001b[0;34m(\u001b[0m\u001b[0margnum\u001b[0m    \u001b[0;32mfor\u001b[0m \u001b[0margnum\u001b[0m\u001b[0;34m,\u001b[0m \u001b[0m_\u001b[0m   \u001b[0;32min\u001b[0m \u001b[0mboxed_args\u001b[0m\u001b[0;34m)\u001b[0m\u001b[0;34m\u001b[0m\u001b[0;34m\u001b[0m\u001b[0m\n\u001b[1;32m     44\u001b[0m             \u001b[0mans\u001b[0m \u001b[0;34m=\u001b[0m \u001b[0mf_wrapped\u001b[0m\u001b[0;34m(\u001b[0m\u001b[0;34m*\u001b[0m\u001b[0margvals\u001b[0m\u001b[0;34m,\u001b[0m \u001b[0;34m**\u001b[0m\u001b[0mkwargs\u001b[0m\u001b[0;34m)\u001b[0m\u001b[0;34m\u001b[0m\u001b[0;34m\u001b[0m\u001b[0m\n\u001b[0;32m---> 45\u001b[0;31m             \u001b[0mnode\u001b[0m \u001b[0;34m=\u001b[0m \u001b[0mnode_constructor\u001b[0m\u001b[0;34m(\u001b[0m\u001b[0mans\u001b[0m\u001b[0;34m,\u001b[0m \u001b[0mf_wrapped\u001b[0m\u001b[0;34m,\u001b[0m \u001b[0margvals\u001b[0m\u001b[0;34m,\u001b[0m \u001b[0mkwargs\u001b[0m\u001b[0;34m,\u001b[0m \u001b[0margnums\u001b[0m\u001b[0;34m,\u001b[0m \u001b[0mparents\u001b[0m\u001b[0;34m)\u001b[0m\u001b[0;34m\u001b[0m\u001b[0;34m\u001b[0m\u001b[0m\n\u001b[0m\u001b[1;32m     46\u001b[0m             \u001b[0;32mreturn\u001b[0m \u001b[0mnew_box\u001b[0m\u001b[0;34m(\u001b[0m\u001b[0mans\u001b[0m\u001b[0;34m,\u001b[0m \u001b[0mtrace\u001b[0m\u001b[0;34m,\u001b[0m \u001b[0mnode\u001b[0m\u001b[0;34m)\u001b[0m\u001b[0;34m\u001b[0m\u001b[0;34m\u001b[0m\u001b[0m\n\u001b[1;32m     47\u001b[0m         \u001b[0;32melse\u001b[0m\u001b[0;34m:\u001b[0m\u001b[0;34m\u001b[0m\u001b[0;34m\u001b[0m\u001b[0m\n",
      "\u001b[0;32m/anaconda3/envs/viabel_env/lib/python3.6/site-packages/autograd/core.py\u001b[0m in \u001b[0;36m__init__\u001b[0;34m(self, value, fun, args, kwargs, parent_argnums, parents)\u001b[0m\n\u001b[1;32m     33\u001b[0m             \u001b[0mfun_name\u001b[0m \u001b[0;34m=\u001b[0m \u001b[0mgetattr\u001b[0m\u001b[0;34m(\u001b[0m\u001b[0mfun\u001b[0m\u001b[0;34m,\u001b[0m \u001b[0;34m'__name__'\u001b[0m\u001b[0;34m,\u001b[0m \u001b[0mfun\u001b[0m\u001b[0;34m)\u001b[0m\u001b[0;34m\u001b[0m\u001b[0;34m\u001b[0m\u001b[0m\n\u001b[1;32m     34\u001b[0m             raise NotImplementedError(\"VJP of {} wrt argnums {} not defined\"\n\u001b[0;32m---> 35\u001b[0;31m                                       .format(fun_name, parent_argnums))\n\u001b[0m\u001b[1;32m     36\u001b[0m         \u001b[0mself\u001b[0m\u001b[0;34m.\u001b[0m\u001b[0mvjp\u001b[0m \u001b[0;34m=\u001b[0m \u001b[0mvjpmaker\u001b[0m\u001b[0;34m(\u001b[0m\u001b[0mparent_argnums\u001b[0m\u001b[0;34m,\u001b[0m \u001b[0mvalue\u001b[0m\u001b[0;34m,\u001b[0m \u001b[0margs\u001b[0m\u001b[0;34m,\u001b[0m \u001b[0mkwargs\u001b[0m\u001b[0;34m)\u001b[0m\u001b[0;34m\u001b[0m\u001b[0;34m\u001b[0m\u001b[0m\n\u001b[1;32m     37\u001b[0m \u001b[0;34m\u001b[0m\u001b[0m\n",
      "\u001b[0;31mNotImplementedError\u001b[0m: VJP of flat_to_triang wrt argnums (0,) not defined"
     ]
    }
   ],
   "source": [
    "klvi_fr_var_param_pd, avg_fr_klvi_var_param_list_pd,_, fr_klvi_history_pd, _, op_log = \\\n",
    "    rmsprop_IA_optimize_with_rhat(n_iters, klvi_fr_objective_and_grad, init_fr_var_param, k, learning_rate=.01,n_optimisers=1)"
   ]
  },
  {
   "cell_type": "code",
   "execution_count": null,
   "metadata": {},
   "outputs": [],
   "source": [
    "klvi_var_param_rms, klvi_var_param_list_rms, avg_klvi_var_param_list_rms, klvi_history_rms, _, op_log_rms = \\\n",
    "    rmsprop_IA_optimize_with_rhat(n_iters, klvi_objective_and_grad, init_var_param, k, learning_rate=.01,n_optimisers=1)"
=======
     ]
=======
     ]
>>>>>>> Stashed changes
    },
    {
     "name": "stderr",
     "output_type": "stream",
     "text": [
      "\n"
     ]
    },
    {
     "ename": "NotImplementedError",
     "evalue": "VJP of flat_to_triang wrt argnums (0,) not defined",
     "output_type": "error",
     "traceback": [
      "\u001b[0;31m---------------------------------------------------------------------------\u001b[0m",
      "\u001b[0;31mKeyError\u001b[0m                                  Traceback (most recent call last)",
      "\u001b[0;32m/anaconda3/envs/viabel_env/lib/python3.6/site-packages/autograd/core.py\u001b[0m in \u001b[0;36m__init__\u001b[0;34m(self, value, fun, args, kwargs, parent_argnums, parents)\u001b[0m\n\u001b[1;32m     30\u001b[0m         \u001b[0;32mtry\u001b[0m\u001b[0;34m:\u001b[0m\u001b[0;34m\u001b[0m\u001b[0;34m\u001b[0m\u001b[0m\n\u001b[0;32m---> 31\u001b[0;31m             \u001b[0mvjpmaker\u001b[0m \u001b[0;34m=\u001b[0m \u001b[0mprimitive_vjps\u001b[0m\u001b[0;34m[\u001b[0m\u001b[0mfun\u001b[0m\u001b[0;34m]\u001b[0m\u001b[0;34m\u001b[0m\u001b[0;34m\u001b[0m\u001b[0m\n\u001b[0m\u001b[1;32m     32\u001b[0m         \u001b[0;32mexcept\u001b[0m \u001b[0mKeyError\u001b[0m\u001b[0;34m:\u001b[0m\u001b[0;34m\u001b[0m\u001b[0;34m\u001b[0m\u001b[0m\n",
      "\u001b[0;31mKeyError\u001b[0m: <function primitive.<locals>.f_wrapped at 0x11d3e4d08>",
      "\nDuring handling of the above exception, another exception occurred:\n",
      "\u001b[0;31mNotImplementedError\u001b[0m                       Traceback (most recent call last)",
      "\u001b[0;32m<ipython-input-21-345e8a41b33a>\u001b[0m in \u001b[0;36m<module>\u001b[0;34m\u001b[0m\n\u001b[1;32m      1\u001b[0m \u001b[0mklvi_fr_var_param_pd\u001b[0m\u001b[0;34m,\u001b[0m \u001b[0mavg_fr_klvi_var_param_list_pd\u001b[0m\u001b[0;34m,\u001b[0m\u001b[0m_\u001b[0m\u001b[0;34m,\u001b[0m \u001b[0mfr_klvi_history_pd\u001b[0m\u001b[0;34m,\u001b[0m \u001b[0m_\u001b[0m\u001b[0;34m,\u001b[0m \u001b[0mop_log\u001b[0m \u001b[0;34m=\u001b[0m\u001b[0;31m \u001b[0m\u001b[0;31m\\\u001b[0m\u001b[0;34m\u001b[0m\u001b[0;34m\u001b[0m\u001b[0m\n\u001b[0;32m----> 2\u001b[0;31m     \u001b[0mrmsprop_IA_optimize_with_rhat\u001b[0m\u001b[0;34m(\u001b[0m\u001b[0mn_iters\u001b[0m\u001b[0;34m,\u001b[0m \u001b[0mklvi_fr_objective_and_grad\u001b[0m\u001b[0;34m,\u001b[0m \u001b[0minit_fr_var_param\u001b[0m\u001b[0;34m,\u001b[0m \u001b[0mk\u001b[0m\u001b[0;34m,\u001b[0m \u001b[0mlearning_rate\u001b[0m\u001b[0;34m=\u001b[0m\u001b[0;36m.01\u001b[0m\u001b[0;34m,\u001b[0m\u001b[0mn_optimisers\u001b[0m\u001b[0;34m=\u001b[0m\u001b[0;36m1\u001b[0m\u001b[0;34m)\u001b[0m\u001b[0;34m\u001b[0m\u001b[0;34m\u001b[0m\u001b[0m\n\u001b[0m",
      "\u001b[0;32m~/Desktop/research_repos/viabel/viabel/viabel/vb.py\u001b[0m in \u001b[0;36mrmsprop_IA_optimize_with_rhat\u001b[0;34m(n_iters, objective_and_grad, init_param, K, has_log_norm, window, learning_rate, epsilon, rhat_window, averaging, n_optimisers, r_mean_threshold, r_sigma_threshold, learning_rate_end)\u001b[0m\n\u001b[1;32m    374\u001b[0m                         \u001b[0mobj_val\u001b[0m\u001b[0;34m,\u001b[0m \u001b[0mobj_grad\u001b[0m\u001b[0;34m,\u001b[0m \u001b[0mlog_norm\u001b[0m \u001b[0;34m=\u001b[0m \u001b[0mobjective_and_grad\u001b[0m\u001b[0;34m(\u001b[0m\u001b[0mvariational_param\u001b[0m\u001b[0;34m)\u001b[0m\u001b[0;34m\u001b[0m\u001b[0;34m\u001b[0m\u001b[0m\n\u001b[1;32m    375\u001b[0m                     \u001b[0;32melse\u001b[0m\u001b[0;34m:\u001b[0m\u001b[0;34m\u001b[0m\u001b[0;34m\u001b[0m\u001b[0m\n\u001b[0;32m--> 376\u001b[0;31m                         \u001b[0mobj_val\u001b[0m\u001b[0;34m,\u001b[0m \u001b[0mobj_grad\u001b[0m \u001b[0;34m=\u001b[0m \u001b[0mobjective_and_grad\u001b[0m\u001b[0;34m(\u001b[0m\u001b[0mvariational_param\u001b[0m\u001b[0;34m)\u001b[0m\u001b[0;34m\u001b[0m\u001b[0;34m\u001b[0m\u001b[0m\n\u001b[0m\u001b[1;32m    377\u001b[0m                         \u001b[0mlog_norm\u001b[0m \u001b[0;34m=\u001b[0m \u001b[0;36m0\u001b[0m\u001b[0;34m\u001b[0m\u001b[0;34m\u001b[0m\u001b[0m\n\u001b[1;32m    378\u001b[0m                     \u001b[0mvalue_history\u001b[0m\u001b[0;34m.\u001b[0m\u001b[0mappend\u001b[0m\u001b[0;34m(\u001b[0m\u001b[0mobj_val\u001b[0m\u001b[0;34m)\u001b[0m\u001b[0;34m\u001b[0m\u001b[0;34m\u001b[0m\u001b[0m\n",
      "\u001b[0;32m/anaconda3/envs/viabel_env/lib/python3.6/site-packages/autograd/wrap_util.py\u001b[0m in \u001b[0;36mnary_f\u001b[0;34m(*args, **kwargs)\u001b[0m\n\u001b[1;32m     18\u001b[0m             \u001b[0;32melse\u001b[0m\u001b[0;34m:\u001b[0m\u001b[0;34m\u001b[0m\u001b[0;34m\u001b[0m\u001b[0m\n\u001b[1;32m     19\u001b[0m                 \u001b[0mx\u001b[0m \u001b[0;34m=\u001b[0m \u001b[0mtuple\u001b[0m\u001b[0;34m(\u001b[0m\u001b[0margs\u001b[0m\u001b[0;34m[\u001b[0m\u001b[0mi\u001b[0m\u001b[0;34m]\u001b[0m \u001b[0;32mfor\u001b[0m \u001b[0mi\u001b[0m \u001b[0;32min\u001b[0m \u001b[0margnum\u001b[0m\u001b[0;34m)\u001b[0m\u001b[0;34m\u001b[0m\u001b[0;34m\u001b[0m\u001b[0m\n\u001b[0;32m---> 20\u001b[0;31m             \u001b[0;32mreturn\u001b[0m \u001b[0munary_operator\u001b[0m\u001b[0;34m(\u001b[0m\u001b[0munary_f\u001b[0m\u001b[0;34m,\u001b[0m \u001b[0mx\u001b[0m\u001b[0;34m,\u001b[0m \u001b[0;34m*\u001b[0m\u001b[0mnary_op_args\u001b[0m\u001b[0;34m,\u001b[0m \u001b[0;34m**\u001b[0m\u001b[0mnary_op_kwargs\u001b[0m\u001b[0;34m)\u001b[0m\u001b[0;34m\u001b[0m\u001b[0;34m\u001b[0m\u001b[0m\n\u001b[0m\u001b[1;32m     21\u001b[0m         \u001b[0;32mreturn\u001b[0m \u001b[0mnary_f\u001b[0m\u001b[0;34m\u001b[0m\u001b[0;34m\u001b[0m\u001b[0m\n\u001b[1;32m     22\u001b[0m     \u001b[0;32mreturn\u001b[0m \u001b[0mnary_operator\u001b[0m\u001b[0;34m\u001b[0m\u001b[0;34m\u001b[0m\u001b[0m\n",
      "\u001b[0;32m/anaconda3/envs/viabel_env/lib/python3.6/site-packages/autograd/differential_operators.py\u001b[0m in \u001b[0;36mvalue_and_grad\u001b[0;34m(fun, x)\u001b[0m\n\u001b[1;32m    133\u001b[0m     \"\"\"Returns a function that returns both value and gradient. Suitable for use\n\u001b[1;32m    134\u001b[0m     in scipy.optimize\"\"\"\n\u001b[0;32m--> 135\u001b[0;31m     \u001b[0mvjp\u001b[0m\u001b[0;34m,\u001b[0m \u001b[0mans\u001b[0m \u001b[0;34m=\u001b[0m \u001b[0m_make_vjp\u001b[0m\u001b[0;34m(\u001b[0m\u001b[0mfun\u001b[0m\u001b[0;34m,\u001b[0m \u001b[0mx\u001b[0m\u001b[0;34m)\u001b[0m\u001b[0;34m\u001b[0m\u001b[0;34m\u001b[0m\u001b[0m\n\u001b[0m\u001b[1;32m    136\u001b[0m     \u001b[0;32mif\u001b[0m \u001b[0;32mnot\u001b[0m \u001b[0mvspace\u001b[0m\u001b[0;34m(\u001b[0m\u001b[0mans\u001b[0m\u001b[0;34m)\u001b[0m\u001b[0;34m.\u001b[0m\u001b[0msize\u001b[0m \u001b[0;34m==\u001b[0m \u001b[0;36m1\u001b[0m\u001b[0;34m:\u001b[0m\u001b[0;34m\u001b[0m\u001b[0;34m\u001b[0m\u001b[0m\n\u001b[1;32m    137\u001b[0m         raise TypeError(\"value_and_grad only applies to real scalar-output \"\n",
      "\u001b[0;32m/anaconda3/envs/viabel_env/lib/python3.6/site-packages/autograd/core.py\u001b[0m in \u001b[0;36mmake_vjp\u001b[0;34m(fun, x)\u001b[0m\n\u001b[1;32m      8\u001b[0m \u001b[0;32mdef\u001b[0m \u001b[0mmake_vjp\u001b[0m\u001b[0;34m(\u001b[0m\u001b[0mfun\u001b[0m\u001b[0;34m,\u001b[0m \u001b[0mx\u001b[0m\u001b[0;34m)\u001b[0m\u001b[0;34m:\u001b[0m\u001b[0;34m\u001b[0m\u001b[0;34m\u001b[0m\u001b[0m\n\u001b[1;32m      9\u001b[0m     \u001b[0mstart_node\u001b[0m \u001b[0;34m=\u001b[0m \u001b[0mVJPNode\u001b[0m\u001b[0;34m.\u001b[0m\u001b[0mnew_root\u001b[0m\u001b[0;34m(\u001b[0m\u001b[0;34m)\u001b[0m\u001b[0;34m\u001b[0m\u001b[0;34m\u001b[0m\u001b[0m\n\u001b[0;32m---> 10\u001b[0;31m     \u001b[0mend_value\u001b[0m\u001b[0;34m,\u001b[0m \u001b[0mend_node\u001b[0m \u001b[0;34m=\u001b[0m  \u001b[0mtrace\u001b[0m\u001b[0;34m(\u001b[0m\u001b[0mstart_node\u001b[0m\u001b[0;34m,\u001b[0m \u001b[0mfun\u001b[0m\u001b[0;34m,\u001b[0m \u001b[0mx\u001b[0m\u001b[0;34m)\u001b[0m\u001b[0;34m\u001b[0m\u001b[0;34m\u001b[0m\u001b[0m\n\u001b[0m\u001b[1;32m     11\u001b[0m     \u001b[0;32mif\u001b[0m \u001b[0mend_node\u001b[0m \u001b[0;32mis\u001b[0m \u001b[0;32mNone\u001b[0m\u001b[0;34m:\u001b[0m\u001b[0;34m\u001b[0m\u001b[0;34m\u001b[0m\u001b[0m\n\u001b[1;32m     12\u001b[0m         \u001b[0;32mdef\u001b[0m \u001b[0mvjp\u001b[0m\u001b[0;34m(\u001b[0m\u001b[0mg\u001b[0m\u001b[0;34m)\u001b[0m\u001b[0;34m:\u001b[0m \u001b[0;32mreturn\u001b[0m \u001b[0mvspace\u001b[0m\u001b[0;34m(\u001b[0m\u001b[0mx\u001b[0m\u001b[0;34m)\u001b[0m\u001b[0;34m.\u001b[0m\u001b[0mzeros\u001b[0m\u001b[0;34m(\u001b[0m\u001b[0;34m)\u001b[0m\u001b[0;34m\u001b[0m\u001b[0;34m\u001b[0m\u001b[0m\n",
      "\u001b[0;32m/anaconda3/envs/viabel_env/lib/python3.6/site-packages/autograd/tracer.py\u001b[0m in \u001b[0;36mtrace\u001b[0;34m(start_node, fun, x)\u001b[0m\n\u001b[1;32m      8\u001b[0m     \u001b[0;32mwith\u001b[0m \u001b[0mtrace_stack\u001b[0m\u001b[0;34m.\u001b[0m\u001b[0mnew_trace\u001b[0m\u001b[0;34m(\u001b[0m\u001b[0;34m)\u001b[0m \u001b[0;32mas\u001b[0m \u001b[0mt\u001b[0m\u001b[0;34m:\u001b[0m\u001b[0;34m\u001b[0m\u001b[0;34m\u001b[0m\u001b[0m\n\u001b[1;32m      9\u001b[0m         \u001b[0mstart_box\u001b[0m \u001b[0;34m=\u001b[0m \u001b[0mnew_box\u001b[0m\u001b[0;34m(\u001b[0m\u001b[0mx\u001b[0m\u001b[0;34m,\u001b[0m \u001b[0mt\u001b[0m\u001b[0;34m,\u001b[0m \u001b[0mstart_node\u001b[0m\u001b[0;34m)\u001b[0m\u001b[0;34m\u001b[0m\u001b[0;34m\u001b[0m\u001b[0m\n\u001b[0;32m---> 10\u001b[0;31m         \u001b[0mend_box\u001b[0m \u001b[0;34m=\u001b[0m \u001b[0mfun\u001b[0m\u001b[0;34m(\u001b[0m\u001b[0mstart_box\u001b[0m\u001b[0;34m)\u001b[0m\u001b[0;34m\u001b[0m\u001b[0;34m\u001b[0m\u001b[0m\n\u001b[0m\u001b[1;32m     11\u001b[0m         \u001b[0;32mif\u001b[0m \u001b[0misbox\u001b[0m\u001b[0;34m(\u001b[0m\u001b[0mend_box\u001b[0m\u001b[0;34m)\u001b[0m \u001b[0;32mand\u001b[0m \u001b[0mend_box\u001b[0m\u001b[0;34m.\u001b[0m\u001b[0m_trace\u001b[0m \u001b[0;34m==\u001b[0m \u001b[0mstart_box\u001b[0m\u001b[0;34m.\u001b[0m\u001b[0m_trace\u001b[0m\u001b[0;34m:\u001b[0m\u001b[0;34m\u001b[0m\u001b[0;34m\u001b[0m\u001b[0m\n\u001b[1;32m     12\u001b[0m             \u001b[0;32mreturn\u001b[0m \u001b[0mend_box\u001b[0m\u001b[0;34m.\u001b[0m\u001b[0m_value\u001b[0m\u001b[0;34m,\u001b[0m \u001b[0mend_box\u001b[0m\u001b[0;34m.\u001b[0m\u001b[0m_node\u001b[0m\u001b[0;34m\u001b[0m\u001b[0;34m\u001b[0m\u001b[0m\n",
      "\u001b[0;32m/anaconda3/envs/viabel_env/lib/python3.6/site-packages/autograd/wrap_util.py\u001b[0m in \u001b[0;36munary_f\u001b[0;34m(x)\u001b[0m\n\u001b[1;32m     13\u001b[0m                 \u001b[0;32melse\u001b[0m\u001b[0;34m:\u001b[0m\u001b[0;34m\u001b[0m\u001b[0;34m\u001b[0m\u001b[0m\n\u001b[1;32m     14\u001b[0m                     \u001b[0msubargs\u001b[0m \u001b[0;34m=\u001b[0m \u001b[0msubvals\u001b[0m\u001b[0;34m(\u001b[0m\u001b[0margs\u001b[0m\u001b[0;34m,\u001b[0m \u001b[0mzip\u001b[0m\u001b[0;34m(\u001b[0m\u001b[0margnum\u001b[0m\u001b[0;34m,\u001b[0m \u001b[0mx\u001b[0m\u001b[0;34m)\u001b[0m\u001b[0;34m)\u001b[0m\u001b[0;34m\u001b[0m\u001b[0;34m\u001b[0m\u001b[0m\n\u001b[0;32m---> 15\u001b[0;31m                 \u001b[0;32mreturn\u001b[0m \u001b[0mfun\u001b[0m\u001b[0;34m(\u001b[0m\u001b[0;34m*\u001b[0m\u001b[0msubargs\u001b[0m\u001b[0;34m,\u001b[0m \u001b[0;34m**\u001b[0m\u001b[0mkwargs\u001b[0m\u001b[0;34m)\u001b[0m\u001b[0;34m\u001b[0m\u001b[0;34m\u001b[0m\u001b[0m\n\u001b[0m\u001b[1;32m     16\u001b[0m             \u001b[0;32mif\u001b[0m \u001b[0misinstance\u001b[0m\u001b[0;34m(\u001b[0m\u001b[0margnum\u001b[0m\u001b[0;34m,\u001b[0m \u001b[0mint\u001b[0m\u001b[0;34m)\u001b[0m\u001b[0;34m:\u001b[0m\u001b[0;34m\u001b[0m\u001b[0;34m\u001b[0m\u001b[0m\n\u001b[1;32m     17\u001b[0m                 \u001b[0mx\u001b[0m \u001b[0;34m=\u001b[0m \u001b[0margs\u001b[0m\u001b[0;34m[\u001b[0m\u001b[0margnum\u001b[0m\u001b[0;34m]\u001b[0m\u001b[0;34m\u001b[0m\u001b[0;34m\u001b[0m\u001b[0m\n",
      "\u001b[0;32m~/Desktop/research_repos/viabel/viabel/viabel/vb.py\u001b[0m in \u001b[0;36mvariational_objective\u001b[0;34m(var_param)\u001b[0m\n\u001b[1;32m    189\u001b[0m     \u001b[0;32mdef\u001b[0m \u001b[0mvariational_objective\u001b[0m\u001b[0;34m(\u001b[0m\u001b[0mvar_param\u001b[0m\u001b[0;34m)\u001b[0m\u001b[0;34m:\u001b[0m\u001b[0;34m\u001b[0m\u001b[0;34m\u001b[0m\u001b[0m\n\u001b[1;32m    190\u001b[0m         \u001b[0;34m\"\"\"Provides a stochastic estimate of the variational lower bound.\"\"\"\u001b[0m\u001b[0;34m\u001b[0m\u001b[0;34m\u001b[0m\u001b[0m\n\u001b[0;32m--> 191\u001b[0;31m         \u001b[0msamples\u001b[0m \u001b[0;34m=\u001b[0m \u001b[0mvar_family\u001b[0m\u001b[0;34m.\u001b[0m\u001b[0msample\u001b[0m\u001b[0;34m(\u001b[0m\u001b[0mvar_param\u001b[0m\u001b[0;34m,\u001b[0m \u001b[0mn_samples\u001b[0m\u001b[0;34m)\u001b[0m\u001b[0;34m\u001b[0m\u001b[0;34m\u001b[0m\u001b[0m\n\u001b[0m\u001b[1;32m    192\u001b[0m         \u001b[0mlower_bound\u001b[0m \u001b[0;34m=\u001b[0m \u001b[0mvar_family\u001b[0m\u001b[0;34m.\u001b[0m\u001b[0mentropy\u001b[0m\u001b[0;34m(\u001b[0m\u001b[0mvar_param\u001b[0m\u001b[0;34m)\u001b[0m \u001b[0;34m+\u001b[0m \u001b[0mnp\u001b[0m\u001b[0;34m.\u001b[0m\u001b[0mmean\u001b[0m\u001b[0;34m(\u001b[0m\u001b[0mlogdensity\u001b[0m\u001b[0;34m(\u001b[0m\u001b[0msamples\u001b[0m\u001b[0;34m)\u001b[0m\u001b[0;34m)\u001b[0m\u001b[0;34m\u001b[0m\u001b[0;34m\u001b[0m\u001b[0m\n\u001b[1;32m    193\u001b[0m         \u001b[0;32mreturn\u001b[0m \u001b[0;34m-\u001b[0m\u001b[0mlower_bound\u001b[0m\u001b[0;34m\u001b[0m\u001b[0;34m\u001b[0m\u001b[0m\n",
      "\u001b[0;32m~/Desktop/research_repos/viabel/viabel/viabel/vb.py\u001b[0m in \u001b[0;36msample\u001b[0;34m(var_param, n_samples, seed)\u001b[0m\n\u001b[1;32m     92\u001b[0m         \u001b[0mmy_rs\u001b[0m \u001b[0;34m=\u001b[0m \u001b[0mrs\u001b[0m \u001b[0;32mif\u001b[0m \u001b[0mseed\u001b[0m \u001b[0;32mis\u001b[0m \u001b[0;32mNone\u001b[0m \u001b[0;32melse\u001b[0m \u001b[0mnpr\u001b[0m\u001b[0;34m.\u001b[0m\u001b[0mRandomState\u001b[0m\u001b[0;34m(\u001b[0m\u001b[0mseed\u001b[0m\u001b[0;34m)\u001b[0m\u001b[0;34m\u001b[0m\u001b[0;34m\u001b[0m\u001b[0m\n\u001b[1;32m     93\u001b[0m         \u001b[0mmean\u001b[0m\u001b[0;34m,\u001b[0m \u001b[0mbeta\u001b[0m \u001b[0;34m=\u001b[0m \u001b[0munpack_params\u001b[0m\u001b[0;34m(\u001b[0m\u001b[0mvar_param\u001b[0m\u001b[0;34m)\u001b[0m\u001b[0;34m\u001b[0m\u001b[0;34m\u001b[0m\u001b[0m\n\u001b[0;32m---> 94\u001b[0;31m         \u001b[0mL\u001b[0m \u001b[0;34m=\u001b[0m \u001b[0mbeta_to_L\u001b[0m\u001b[0;34m(\u001b[0m\u001b[0mbeta\u001b[0m\u001b[0;34m)\u001b[0m\u001b[0;34m\u001b[0m\u001b[0;34m\u001b[0m\u001b[0m\n\u001b[0m\u001b[1;32m     95\u001b[0m         \u001b[0;32mreturn\u001b[0m \u001b[0mnp\u001b[0m\u001b[0;34m.\u001b[0m\u001b[0mdot\u001b[0m\u001b[0;34m(\u001b[0m \u001b[0mmy_rs\u001b[0m\u001b[0;34m.\u001b[0m\u001b[0mrandn\u001b[0m\u001b[0;34m(\u001b[0m\u001b[0mn_samples\u001b[0m\u001b[0;34m,\u001b[0m \u001b[0mdim\u001b[0m\u001b[0;34m)\u001b[0m\u001b[0;34m,\u001b[0m \u001b[0mL\u001b[0m\u001b[0;34m)\u001b[0m \u001b[0;34m+\u001b[0m \u001b[0mmean\u001b[0m\u001b[0;34m\u001b[0m\u001b[0;34m\u001b[0m\u001b[0m\n\u001b[1;32m     96\u001b[0m         \u001b[0;31m#return my_rs.randn(n_samples, dim) @ L + mean\u001b[0m\u001b[0;34m\u001b[0m\u001b[0;34m\u001b[0m\u001b[0;34m\u001b[0m\u001b[0m\n",
      "\u001b[0;32m~/Desktop/research_repos/viabel/viabel/viabel/vb.py\u001b[0m in \u001b[0;36mbeta_to_L\u001b[0;34m(beta)\u001b[0m\n\u001b[1;32m     78\u001b[0m     \u001b[0;32mdef\u001b[0m \u001b[0mbeta_to_L\u001b[0m\u001b[0;34m(\u001b[0m\u001b[0mbeta\u001b[0m\u001b[0;34m)\u001b[0m\u001b[0;34m:\u001b[0m\u001b[0;34m\u001b[0m\u001b[0;34m\u001b[0m\u001b[0m\n\u001b[1;32m     79\u001b[0m         \u001b[0mprint\u001b[0m\u001b[0;34m(\u001b[0m\u001b[0mbeta\u001b[0m\u001b[0;34m.\u001b[0m\u001b[0mshape\u001b[0m\u001b[0;34m)\u001b[0m\u001b[0;34m\u001b[0m\u001b[0;34m\u001b[0m\u001b[0m\n\u001b[0;32m---> 80\u001b[0;31m         \u001b[0mL\u001b[0m \u001b[0;34m=\u001b[0m \u001b[0mflat_to_triang\u001b[0m\u001b[0;34m(\u001b[0m\u001b[0mbeta\u001b[0m\u001b[0;34m)\u001b[0m\u001b[0;34m\u001b[0m\u001b[0;34m\u001b[0m\u001b[0m\n\u001b[0m\u001b[1;32m     81\u001b[0m         \u001b[0mL\u001b[0m\u001b[0;34m=\u001b[0m \u001b[0mL\u001b[0m\u001b[0;34m[\u001b[0m\u001b[0;36m0\u001b[0m\u001b[0;34m]\u001b[0m\u001b[0;34m\u001b[0m\u001b[0;34m\u001b[0m\u001b[0m\n\u001b[1;32m     82\u001b[0m         \u001b[0;32mreturn\u001b[0m \u001b[0mL\u001b[0m\u001b[0;34m\u001b[0m\u001b[0;34m\u001b[0m\u001b[0m\n",
      "\u001b[0;32m/anaconda3/envs/viabel_env/lib/python3.6/site-packages/autograd/tracer.py\u001b[0m in \u001b[0;36mf_wrapped\u001b[0;34m(*args, **kwargs)\u001b[0m\n\u001b[1;32m     43\u001b[0m             \u001b[0margnums\u001b[0m \u001b[0;34m=\u001b[0m \u001b[0mtuple\u001b[0m\u001b[0;34m(\u001b[0m\u001b[0margnum\u001b[0m    \u001b[0;32mfor\u001b[0m \u001b[0margnum\u001b[0m\u001b[0;34m,\u001b[0m \u001b[0m_\u001b[0m   \u001b[0;32min\u001b[0m \u001b[0mboxed_args\u001b[0m\u001b[0;34m)\u001b[0m\u001b[0;34m\u001b[0m\u001b[0;34m\u001b[0m\u001b[0m\n\u001b[1;32m     44\u001b[0m             \u001b[0mans\u001b[0m \u001b[0;34m=\u001b[0m \u001b[0mf_wrapped\u001b[0m\u001b[0;34m(\u001b[0m\u001b[0;34m*\u001b[0m\u001b[0margvals\u001b[0m\u001b[0;34m,\u001b[0m \u001b[0;34m**\u001b[0m\u001b[0mkwargs\u001b[0m\u001b[0;34m)\u001b[0m\u001b[0;34m\u001b[0m\u001b[0;34m\u001b[0m\u001b[0m\n\u001b[0;32m---> 45\u001b[0;31m             \u001b[0mnode\u001b[0m \u001b[0;34m=\u001b[0m \u001b[0mnode_constructor\u001b[0m\u001b[0;34m(\u001b[0m\u001b[0mans\u001b[0m\u001b[0;34m,\u001b[0m \u001b[0mf_wrapped\u001b[0m\u001b[0;34m,\u001b[0m \u001b[0margvals\u001b[0m\u001b[0;34m,\u001b[0m \u001b[0mkwargs\u001b[0m\u001b[0;34m,\u001b[0m \u001b[0margnums\u001b[0m\u001b[0;34m,\u001b[0m \u001b[0mparents\u001b[0m\u001b[0;34m)\u001b[0m\u001b[0;34m\u001b[0m\u001b[0;34m\u001b[0m\u001b[0m\n\u001b[0m\u001b[1;32m     46\u001b[0m             \u001b[0;32mreturn\u001b[0m \u001b[0mnew_box\u001b[0m\u001b[0;34m(\u001b[0m\u001b[0mans\u001b[0m\u001b[0;34m,\u001b[0m \u001b[0mtrace\u001b[0m\u001b[0;34m,\u001b[0m \u001b[0mnode\u001b[0m\u001b[0;34m)\u001b[0m\u001b[0;34m\u001b[0m\u001b[0;34m\u001b[0m\u001b[0m\n\u001b[1;32m     47\u001b[0m         \u001b[0;32melse\u001b[0m\u001b[0;34m:\u001b[0m\u001b[0;34m\u001b[0m\u001b[0;34m\u001b[0m\u001b[0m\n",
      "\u001b[0;32m/anaconda3/envs/viabel_env/lib/python3.6/site-packages/autograd/core.py\u001b[0m in \u001b[0;36m__init__\u001b[0;34m(self, value, fun, args, kwargs, parent_argnums, parents)\u001b[0m\n\u001b[1;32m     33\u001b[0m             \u001b[0mfun_name\u001b[0m \u001b[0;34m=\u001b[0m \u001b[0mgetattr\u001b[0m\u001b[0;34m(\u001b[0m\u001b[0mfun\u001b[0m\u001b[0;34m,\u001b[0m \u001b[0;34m'__name__'\u001b[0m\u001b[0;34m,\u001b[0m \u001b[0mfun\u001b[0m\u001b[0;34m)\u001b[0m\u001b[0;34m\u001b[0m\u001b[0;34m\u001b[0m\u001b[0m\n\u001b[1;32m     34\u001b[0m             raise NotImplementedError(\"VJP of {} wrt argnums {} not defined\"\n\u001b[0;32m---> 35\u001b[0;31m                                       .format(fun_name, parent_argnums))\n\u001b[0m\u001b[1;32m     36\u001b[0m         \u001b[0mself\u001b[0m\u001b[0;34m.\u001b[0m\u001b[0mvjp\u001b[0m \u001b[0;34m=\u001b[0m \u001b[0mvjpmaker\u001b[0m\u001b[0;34m(\u001b[0m\u001b[0mparent_argnums\u001b[0m\u001b[0;34m,\u001b[0m \u001b[0mvalue\u001b[0m\u001b[0;34m,\u001b[0m \u001b[0margs\u001b[0m\u001b[0;34m,\u001b[0m \u001b[0mkwargs\u001b[0m\u001b[0;34m)\u001b[0m\u001b[0;34m\u001b[0m\u001b[0;34m\u001b[0m\u001b[0m\n\u001b[1;32m     37\u001b[0m \u001b[0;34m\u001b[0m\u001b[0m\n",
      "\u001b[0;31mNotImplementedError\u001b[0m: VJP of flat_to_triang wrt argnums (0,) not defined"
     ]
    }
   ],
   "source": [
    "klvi_fr_var_param_pd, avg_fr_klvi_var_param_list_pd,_, fr_klvi_history_pd, _, op_log = \\\n",
    "    rmsprop_IA_optimize_with_rhat(n_iters, klvi_fr_objective_and_grad, init_fr_var_param, k, learning_rate=.01,n_optimisers=1)"
<<<<<<< Updated upstream
>>>>>>> Stashed changes
=======
>>>>>>> Stashed changes
   ]
  },
  {
   "cell_type": "code",
   "execution_count": null,
   "metadata": {},
   "outputs": [],
<<<<<<< Updated upstream
<<<<<<< Updated upstream
=======
   "source": [
    "klvi_var_param_rms, klvi_var_param_list_rms, avg_klvi_var_param_list_rms, klvi_history_rms, _, op_log_rms = \\\n",
    "    rmsprop_IA_optimize_with_rhat(n_iters, klvi_objective_and_grad, init_var_param, k, learning_rate=.01,n_optimisers=1)"
=======
   "source": [
    "klvi_var_param_rms, klvi_var_param_list_rms, avg_klvi_var_param_list_rms, klvi_history_rms, _, op_log_rms = \\\n",
    "    rmsprop_IA_optimize_with_rhat(n_iters, klvi_objective_and_grad, init_var_param, k, learning_rate=.01,n_optimisers=1)"
   ]
  },
  {
   "cell_type": "code",
   "execution_count": null,
   "metadata": {},
   "outputs": [],
   "source": [
    "print(op_log_rms['start_avg_mean_iters'])\n",
    "print(op_log_rms['start_avg_sigma_iters'])"
>>>>>>> Stashed changes
   ]
  },
  {
   "cell_type": "code",
   "execution_count": null,
   "metadata": {},
   "outputs": [],
<<<<<<< Updated upstream
>>>>>>> Stashed changes
   "source": [
    "print(op_log_rms['start_avg_mean_iters'])\n",
    "print(op_log_rms['start_avg_sigma_iters'])"
   ]
  },
  {
   "cell_type": "code",
   "execution_count": null,
   "metadata": {},
   "outputs": [],
=======
>>>>>>> Stashed changes
   "source": [
    "klvi_var_param_rms_pd, avg_klvi_var_param_list_rms_pd,_, klvi_history_pd, _, op_log_pd = \\\n",
    "    rmsprop_IA_optimize_with_rhat(n_iters, klvi_objective_and_grad_pd, init_var_param, k, learning_rate=.01,n_optimisers=1)"
   ]
  },
  {
   "cell_type": "code",
   "execution_count": null,
   "metadata": {},
   "outputs": [],
   "source": [
    "print(op_log_pd['start_avg_mean_iters'])\n",
    "print(op_log_pd['start_avg_sigma_iters'])"
   ]
  },
  {
   "cell_type": "code",
   "execution_count": null,
   "metadata": {},
   "outputs": [],
   "source": [
    "klvi_var_param_adam, klvi_var_param_list_adam, avg_klvi_var_param_list_adam, klvi_history_adam, _, op_log_adam = \\\n",
    "    adam_IA_optimize_with_rhat(12000, klvi_objective_and_grad, init_var_param, k, learning_rate=.01,n_optimisers=1)"
   ]
  },
  {
   "cell_type": "code",
   "execution_count": null,
   "metadata": {},
   "outputs": [],
   "source": [
    "klvi_var_param_adam_pd, avg_klvi_var_param_list_adam_pd,_, klvi_history_adam_pd, _, op_log_adam_pd = \\\n",
    "    adam_IA_optimize_with_rhat(12000, klvi_objective_and_grad_pd, init_var_param, k, learning_rate=.01,n_optimisers=1)"
   ]
  },
  {
   "cell_type": "markdown",
   "metadata": {},
   "source": [
    "#### compare z scores for rmsprop and rmsprop-ia"
   ]
  },
  {
   "cell_type": "code",
   "execution_count": null,
   "metadata": {},
   "outputs": [],
   "source": [
    "plt.loglog(np.mean(np.sqrt(np.square(klvi_var_param_list_rms[0][op_log_rms['start_avg_mean_iters']:,:k] - true_mean)), axis=1))\n",
    "plt.loglog(np.mean(np.sqrt(np.square(avg_klvi_var_param_list_rms[0][:,:k] - true_mean)), axis=1))\n",
    "\n"
   ]
  },
  {
   "cell_type": "code",
   "execution_count": null,
   "metadata": {},
   "outputs": [],
   "source": [
    "plt.plot(np.mean(np.sqrt(np.square(np.exp(klvi_var_param_list_rms[0][1000:,k:]) - true_std)), axis=1))\n",
    "plt.plot(np.mean(np.sqrt(np.square(np.exp(avg_klvi_var_param_list_rms[0][1000:,k:]) - true_std)), axis=1))"
   ]
  },
  {
   "cell_type": "code",
   "execution_count": null,
   "metadata": {},
   "outputs": [],
   "source": [
    "plt.plot(np.mean(np.sqrt(np.square(np.exp(klvi_var_param_list_adam[0][op_log_adam['start_avg_mean_iters']:,k:]) - true_std)), axis=1))\n",
    "plt.plot(np.mean(np.sqrt(np.square(np.exp(avg_klvi_var_param_list_adam[0][:,k:]) - true_std)), axis=1))"
   ]
  },
  {
   "cell_type": "code",
   "execution_count": null,
   "metadata": {},
   "outputs": [],
   "source": [
    "print(op_log)"
   ]
  },
  {
   "cell_type": "code",
   "execution_count": null,
   "metadata": {},
   "outputs": [],
   "source": [
    "print(len(avg_klvi_var_param_list_adam))\n",
    "print(avg_klvi_var_param_list_adam[1][-1])\n",
    "print(avg_klvi_var_param_list_adam[0][-1])"
   ]
  },
  {
   "cell_type": "code",
   "execution_count": null,
   "metadata": {},
   "outputs": [],
   "source": [
    "print(op_log['start_avg_mean_iters'])\n",
    "print(op_log_adam['start_avg_mean_iters'])"
   ]
  },
  {
   "cell_type": "code",
   "execution_count": null,
   "metadata": {},
   "outputs": [],
   "source": [
    "print(op_log['r_hat_mean'])\n",
    "print(op_log_adam['r_hat_mean'])"
   ]
  },
  {
   "cell_type": "code",
   "execution_count": null,
   "metadata": {},
   "outputs": [],
   "source": [
    "### Optimisation using Adagrad and Iterate Averaging"
   ]
  },
  {
   "cell_type": "code",
   "execution_count": null,
   "metadata": {},
   "outputs": [],
   "source": []
  },
  {
   "cell_type": "code",
   "execution_count": null,
   "metadata": {},
   "outputs": [],
   "source": [
    "#plot_approx_and_exact_contours(stan_log_density, mf_g_var_family, init_var_param, xlim=[-6,0], ylim=[-1,6])\n",
    "klvi_var_param, _, klvi_history, _ = \\\n",
    "    adagrad_optimize(n_iters, klvi_objective_and_grad, init_var_param, learning_rate=.01)"
   ]
  },
  {
   "cell_type": "code",
   "execution_count": null,
   "metadata": {},
   "outputs": [],
   "source": [
    "klvi_var_param_pd, _, averaged_klvi_var_param_pd, klvi_history_pd, _ = \\\n",
    "    rmsprop_IA_optimize(n_iters, klvi_objective_and_grad_pd, init_var_param, learning_rate=.01)"
   ]
  },
  {
   "cell_type": "code",
   "execution_count": null,
   "metadata": {},
   "outputs": [],
   "source": [
    "plot_history(klvi_history)\n",
    "plot_history(klvi_history_adam)\n",
    "plot_history(klvi_history_adam - klvi_history)"
   ]
  },
  {
   "cell_type": "markdown",
   "metadata": {},
   "source": [
    "### Optimisation using RMSProp and Iterate Averaging."
   ]
  },
  {
   "cell_type": "code",
   "execution_count": null,
   "metadata": {},
   "outputs": [],
   "source": [
    "#plot_approx_and_exact_contours(stan_log_density, mf_g_var_family, init_var_param, xlim=[-6,0], ylim=[-1,6])\n",
    "klvi_var_param_rms, _, averaged_klvi_var_param_history_rms, klvi_history_rms, _ = \\\n",
    "    rmsprop_IA_optimize(n_iters, klvi_objective_and_grad, init_var_param, learning_rate=.01)"
   ]
  },
  {
   "cell_type": "code",
   "execution_count": null,
   "metadata": {},
   "outputs": [],
   "source": [
    "averaged_klvi_var_param_rms= averaged_klvi_var_param_history_rms[-1]"
   ]
  },
  {
   "cell_type": "code",
   "execution_count": null,
   "metadata": {},
   "outputs": [],
   "source": [
    "klvi_var_param_adam, _, averaged_klvi_var_param_history_adam, klvi_history_adam, _ = \\\n",
    "    adam_IA_optimize(15000, klvi_objective_and_grad, init_var_param, learning_rate=.013)"
   ]
  },
  {
   "cell_type": "code",
   "execution_count": null,
   "metadata": {},
   "outputs": [],
   "source": [
    "averaged_klvi_var_param_adam = averaged_klvi_var_param_history_adam[-1]"
   ]
  },
  {
   "cell_type": "markdown",
   "metadata": {},
   "source": [
    "We can plot the negative ELBO to visually verify convergence"
   ]
  },
  {
   "cell_type": "code",
   "execution_count": null,
   "metadata": {},
   "outputs": [],
   "source": [
    "plot_history(klvi_history)\n",
    "plot_history(klvi_history_rms)\n",
    "plot_history(klvi_history_adam)"
   ]
  },
  {
   "cell_type": "markdown",
   "metadata": {},
   "source": [
    "Due to the strong posterior correlation, the variational approximation dramatically underestimates uncertainty"
   ]
  },
  {
   "cell_type": "code",
   "execution_count": null,
   "metadata": {},
   "outputs": [],
   "source": [
    "#plot_approx_and_exact_contours(stan_log_density, mf_g_var_family, klvi_var_param, xlim=[-6,0], ylim=[-1,6])"
   ]
  },
  {
   "cell_type": "code",
   "execution_count": null,
   "metadata": {},
   "outputs": [],
   "source": [
    "#plot_approx_and_exact_contours(stan_log_density, mf_g_var_family, averaged_klvi_var_param, xlim=[-6,0], ylim=[-1,6])"
   ]
  },
  {
   "cell_type": "code",
   "execution_count": null,
   "metadata": {},
   "outputs": [],
   "source": [
    "print(klvi_var_param)"
   ]
  },
  {
   "cell_type": "code",
   "execution_count": null,
   "metadata": {},
   "outputs": [],
   "source": [
    "check_approx_accuracy(mf_g_var_family, klvi_var_param, true_mean, true_cov, verbose=True);"
   ]
  },
  {
   "cell_type": "code",
   "execution_count": null,
   "metadata": {},
   "outputs": [],
   "source": [
    "check_approx_accuracy(mf_g_var_family, klvi_var_param_adam, true_mean, true_cov, verbose=True);"
   ]
  },
  {
   "cell_type": "code",
   "execution_count": null,
   "metadata": {},
   "outputs": [],
   "source": [
    "check_approx_accuracy(mf_g_var_family, averaged_klvi_var_param_rms, true_mean, true_cov, verbose=True);"
   ]
  },
  {
   "cell_type": "code",
   "execution_count": null,
   "metadata": {},
   "outputs": [],
   "source": [
    "check_approx_accuracy(mf_g_var_family, klvi_var_param_adam, true_mean, true_cov, verbose=True);"
   ]
  },
  {
   "cell_type": "code",
   "execution_count": null,
   "metadata": {},
   "outputs": [],
   "source": [
    "check_approx_accuracy(mf_g_var_family, averaged_klvi_var_param_adam, true_mean, true_cov, verbose=True);"
   ]
  },
  {
   "cell_type": "markdown",
   "metadata": {},
   "source": [
    "We can check approximation quality using `viabel`. All bounds suggest the approximation is not good. "
   ]
  },
  {
   "cell_type": "code",
   "execution_count": null,
   "metadata": {},
   "outputs": [],
   "source": [
    "model_param_samples, log_weights = \\\n",
    "    get_samples_and_log_weights(stan_log_density, mf_g_var_family, klvi_var_param, 1000000)\n",
    "elbo = np.mean(log_weights)\n",
    "var_dist_cov = mf_g_var_family.mean_and_cov(klvi_var_param)[1]\n",
    "klvi_results = all_bounds(log_weights, model_param_samples, q_var=var_dist_cov)"
   ]
  },
  {
   "cell_type": "code",
   "execution_count": null,
   "metadata": {},
   "outputs": [],
   "source": [
    "print_bounds(klvi_results)"
   ]
  },
  {
   "cell_type": "code",
   "execution_count": null,
   "metadata": {},
   "outputs": [],
   "source": [
    "model_param_samples, log_weights = \\\n",
    "    get_samples_and_log_weights(stan_log_density, mf_g_var_family, averaged_klvi_var_param_rms, 1000000)\n",
    "elbo_rmsia = np.mean(log_weights)\n",
    "var_dist_cov_rmsia = mf_g_var_family.mean_and_cov(averaged_klvi_var_param_rms)[1]\n",
    "klvi_results_rmsia = all_bounds(log_weights, model_param_samples, q_var=var_dist_cov_rmsia)"
   ]
  },
  {
   "cell_type": "code",
   "execution_count": null,
   "metadata": {},
   "outputs": [],
   "source": [
    "print_bounds(klvi_results_rmsia)"
   ]
  },
  {
   "cell_type": "code",
   "execution_count": null,
   "metadata": {},
   "outputs": [],
   "source": [
    "model_param_samples, log_weights = \\\n",
    "    get_samples_and_log_weights(stan_log_density, mf_g_var_family, averaged_klvi_var_param_adam, 1000000)\n",
    "elbo_adamia = np.mean(log_weights)\n",
    "var_dist_cov_adamia = mf_g_var_family.mean_and_cov(averaged_klvi_var_param_adam)[1]\n",
    "klvi_results_adamia = all_bounds(log_weights, model_param_samples, q_var=var_dist_cov_adamia)"
   ]
  },
  {
   "cell_type": "code",
   "execution_count": null,
   "metadata": {},
   "outputs": [],
   "source": [
    "print_bounds(klvi_results_adamia)"
   ]
  },
  {
   "cell_type": "code",
   "execution_count": null,
   "metadata": {},
   "outputs": [],
   "source": []
  },
  {
   "cell_type": "markdown",
   "metadata": {},
   "source": [
    "## Mean-field variational inference with CHIVI\n",
    "\n",
    "We can repeat the same procedure, but this time using CHIVI and a Student t mean-field variational family. "
   ]
  },
  {
   "cell_type": "code",
   "execution_count": null,
   "metadata": {
    "scrolled": false
   },
   "outputs": [],
   "source": [
    "mf_t_var_family = mean_field_t_variational_family(2, 40)\n",
    "chivi_objective_and_grad = black_box_chivi(2, mf_t_var_family, stan_log_density, 500)\n",
    "\n",
    "init_var_param = klvi_var_param.copy()\n",
    "init_var_param[2:] += 3\n",
    "\n",
    "chivi_var_param, _, chivi_history, _ = \\\n",
    "    adagrad_optimize(n_iters, chivi_objective_and_grad, init_var_param, learning_rate=.01) #, learning_rate_end=.01)"
   ]
  },
  {
   "cell_type": "code",
   "execution_count": null,
   "metadata": {},
   "outputs": [],
   "source": [
    "plot_history(chivi_history)"
   ]
  },
  {
   "cell_type": "markdown",
   "metadata": {},
   "source": [
    "The variance is no longer so dramically underestimated, though the variational approximation is still not very good. This is reflected is the large bounds."
   ]
  },
  {
   "cell_type": "code",
   "execution_count": null,
   "metadata": {},
   "outputs": [],
   "source": [
    "plot_approx_and_exact_contours(stan_log_density, mf_t_var_family, chivi_var_param, xlim=[-6,0], ylim=[-1,6])"
   ]
  },
  {
   "cell_type": "code",
   "execution_count": null,
   "metadata": {},
   "outputs": [],
   "source": [
    "check_approx_accuracy(mf_t_var_family, chivi_var_param, true_mean, true_cov, verbose=True);"
   ]
  },
  {
   "cell_type": "code",
   "execution_count": null,
   "metadata": {},
   "outputs": [],
   "source": [
    "model_param_samples, log_weights = \\\n",
    "    get_samples_and_log_weights(stan_log_density, mf_t_var_family, chivi_var_param, 1000000)\n",
    "var_dist_cov = mf_t_var_family.mean_and_cov(chivi_var_param)[1]\n",
    "chivi_results = all_bounds(log_weights, model_param_samples, q_var=var_dist_cov, log_norm_bound=elbo)"
   ]
  },
  {
   "cell_type": "code",
   "execution_count": null,
   "metadata": {},
   "outputs": [],
   "source": [
    "print_bounds(chivi_results)"
   ]
  },
  {
   "cell_type": "markdown",
   "metadata": {},
   "source": [
    "## Non-mean-field approximation\n",
    "\n",
    "Finally, we obtain a very good approximation by using a Student t variational family with a full-rank scaling matrix. "
   ]
  },
  {
   "cell_type": "code",
   "execution_count": null,
   "metadata": {},
   "outputs": [],
   "source": [
    "t_var_family = t_variational_family(2, 40)\n",
    "full_klvi_objective_and_grad = black_box_klvi(t_var_family, stan_log_density, 100)\n",
    "\n",
    "init_var_param = np.zeros(t_var_family.var_param_dim)\n",
    "plot_approx_and_exact_contours(stan_log_density, t_var_family, init_var_param, xlim=[-6,0], ylim=[-1,6])\n",
    "full_klvi_var_param, _, full_klvi_history, _ = \\\n",
    "    adagrad_optimize(n_iters, full_klvi_objective_and_grad, init_var_param, \n",
    "                     learning_rate=.1, learning_rate_end=.001)\n",
    "\n",
    "\n",
    "# full_var_dist = vb.StudentTDistribution(2, 40)\n",
    "# full_klvi = vb.KLqp(full_var_dist, model)\n",
    "# _, _, history, _ = vb.adagrad_optimize(\n",
    "#     10000, full_klvi, n_samples=20, learning_rate=.1, learning_rate_end=.001)"
   ]
  },
  {
   "cell_type": "code",
   "execution_count": null,
   "metadata": {},
   "outputs": [],
   "source": [
    "plot_history(full_klvi_history)"
   ]
  },
  {
   "cell_type": "code",
   "execution_count": null,
   "metadata": {},
   "outputs": [],
   "source": [
    "plot_approx_and_exact_contours(stan_log_density, t_var_family, full_klvi_var_param, xlim=[-6,0], ylim=[-1,6])"
   ]
  },
  {
   "cell_type": "code",
   "execution_count": null,
   "metadata": {},
   "outputs": [],
   "source": [
    "check_approx_accuracy(t_var_family, full_klvi_var_param, true_mean, true_cov, verbose=True);"
   ]
  },
  {
   "cell_type": "markdown",
   "metadata": {},
   "source": [
    "Bounds computed using `viabel` -- and the 2-divergence bound in particular -- confirm that the approximation is accurate. "
   ]
  },
  {
   "cell_type": "code",
   "execution_count": null,
   "metadata": {},
   "outputs": [],
   "source": [
    "model_param_samples, log_weights = \\\n",
    "    get_samples_and_log_weights(stan_log_density, t_var_family, full_klvi_var_param, 1000000)\n",
    "var_dist_cov = t_var_family.mean_and_cov(full_klvi_var_param)[1]\n",
    "full_klvi_results = all_bounds(log_weights, model_param_samples, q_var=var_dist_cov)"
   ]
  },
  {
   "cell_type": "code",
   "execution_count": null,
   "metadata": {},
   "outputs": [],
   "source": [
    "print_bounds(full_klvi_results)"
   ]
  },
  {
   "cell_type": "code",
   "execution_count": null,
   "metadata": {},
   "outputs": [],
   "source": []
  }
 ],
 "metadata": {
  "kernelspec": {
   "display_name": "Python (viabel_env)",
   "language": "python",
   "name": "viabel_env"
  },
  "language_info": {
   "codemirror_mode": {
    "name": "ipython",
    "version": 3
   },
   "file_extension": ".py",
   "mimetype": "text/x-python",
   "name": "python",
   "nbconvert_exporter": "python",
   "pygments_lexer": "ipython3",
   "version": "3.6.10"
  }
 },
 "nbformat": 4,
 "nbformat_minor": 2
}
